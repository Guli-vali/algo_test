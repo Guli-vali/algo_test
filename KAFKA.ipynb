{
 "cells": [
  {
   "cell_type": "markdown",
   "id": "f672f28b-3f43-45e8-aa7b-86112b8f0d08",
   "metadata": {},
   "source": [
    "# KAFKA"
   ]
  },
  {
   "cell_type": "code",
   "execution_count": null,
   "id": "28d05b17-429f-4d7b-9be4-5488bbdc0c9c",
   "metadata": {},
   "outputs": [],
   "source": []
  }
 ],
 "metadata": {
  "kernelspec": {
   "display_name": "Python 3 (ipykernel)",
   "language": "python",
   "name": "python3"
  },
  "language_info": {
   "codemirror_mode": {
    "name": "ipython",
    "version": 3
   },
   "file_extension": ".py",
   "mimetype": "text/x-python",
   "name": "python",
   "nbconvert_exporter": "python",
   "pygments_lexer": "ipython3",
   "version": "3.10.6"
  }
 },
 "nbformat": 4,
 "nbformat_minor": 5
}
