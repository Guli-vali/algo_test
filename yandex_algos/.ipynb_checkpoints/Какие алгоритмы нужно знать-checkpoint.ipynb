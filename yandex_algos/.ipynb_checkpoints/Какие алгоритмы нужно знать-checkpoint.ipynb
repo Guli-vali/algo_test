{
 "cells": [
  {
   "cell_type": "markdown",
   "id": "ab779e15-8242-4986-b642-385db5147479",
   "metadata": {},
   "source": [
    "# Два указателя"
   ]
  },
  {
   "cell_type": "code",
   "execution_count": 2,
   "id": "080b5706-3184-4b80-bfcf-3c0d511bcc03",
   "metadata": {},
   "outputs": [],
   "source": [
    "# Нужно найти максимальное число одинаковых подряд идущих символов в строке.\n",
    "\n",
    "def max_consecutive_elements(input_str):\n",
    "    result, cur_letter_idx = 0, 0\n",
    "    while cur_letter_idx < len(input_str):\n",
    "        next_letter_idx = cur_letter_idx\n",
    "        while next_letter_idx < len(input_str) \\\n",
    "        and input_str[next_letter_idx] == input_str[cur_letter_idx]:\n",
    "            next_letter_idx += 1\n",
    "        result = max(result, next_letter_idx - cur_letter_idx)\n",
    "        cur_letter_idx = next_letter_idx\n",
    "    return result "
   ]
  },
  {
   "cell_type": "code",
   "execution_count": 6,
   "id": "9b7e2427-149d-4146-b5ca-8333db0c978d",
   "metadata": {},
   "outputs": [
    {
     "name": "stdout",
     "output_type": "stream",
     "text": [
      "3\n",
      "2\n"
     ]
    }
   ],
   "source": [
    "print(max_consecutive_elements(['A', 'A', 'B', 'C', 'D', 'D', 'D']))\n",
    "print(max_consecutive_elements('abobaa'))"
   ]
  },
  {
   "cell_type": "code",
   "execution_count": null,
   "id": "f818707f-ce67-4145-9016-904528b1f0b3",
   "metadata": {},
   "outputs": [],
   "source": [
    " "
   ]
  }
 ],
 "metadata": {
  "kernelspec": {
   "display_name": "Python 3 (ipykernel)",
   "language": "python",
   "name": "python3"
  },
  "language_info": {
   "codemirror_mode": {
    "name": "ipython",
    "version": 3
   },
   "file_extension": ".py",
   "mimetype": "text/x-python",
   "name": "python",
   "nbconvert_exporter": "python",
   "pygments_lexer": "ipython3",
   "version": "3.10.6"
  }
 },
 "nbformat": 4,
 "nbformat_minor": 5
}
