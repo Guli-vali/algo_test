{
 "cells": [
  {
   "cell_type": "code",
   "execution_count": 23,
   "id": "97a38403-6b45-4c58-82a9-6fecf0d65097",
   "metadata": {},
   "outputs": [
    {
     "name": "stdout",
     "output_type": "stream",
     "text": [
      "{'arr': [3, 4, 1, 7, 9, 1], 'res': [None, None, None, None, None, None], 'i': 0}\n",
      "{'arr': [3, 4, 1, 7, 9, 1], 'res': [3, None, None, None, None, None], 'i': 1}\n",
      "{'arr': [3, 4, 1, 7, 9, 1], 'res': [3, 7, None, None, None, None], 'i': 2}\n",
      "{'arr': [3, 4, 1, 7, 9, 1], 'res': [3, 7, 8, None, None, None], 'i': 3}\n",
      "{'arr': [3, 4, 1, 7, 9, 1], 'res': [3, 7, 8, 15, None, None], 'i': 4}\n",
      "{'arr': [3, 4, 1, 7, 9, 1], 'res': [3, 7, 8, 15, 24, None], 'i': 5}\n",
      "[3, 7, 8, 15, 24, 25]\n",
      "{'arr': [3, 4, 1, 7, 9, -11], 'res': [None, None, None, None, None, None], 'i': 0}\n",
      "{'arr': [3, 4, 1, 7, 9, -11], 'res': [3, None, None, None, None, None], 'i': 1}\n",
      "{'arr': [3, 4, 1, 7, 9, -11], 'res': [3, 7, None, None, None, None], 'i': 2}\n",
      "{'arr': [3, 4, 1, 7, 9, -11], 'res': [3, 7, 8, None, None, None], 'i': 3}\n",
      "{'arr': [3, 4, 1, 7, 9, -11], 'res': [3, 7, 8, 15, None, None], 'i': 4}\n",
      "{'arr': [3, 4, 1, 7, 9, -11], 'res': [3, 7, 8, 15, 24, None], 'i': 5}\n",
      "[3, 7, 8, 15, 24, 13]\n",
      "{'arr': [0, 2, -4, 4, 6, 11, -7], 'res': [None, None, None, None, None, None, None], 'i': 0}\n",
      "{'arr': [0, 2, -4, 4, 6, 11, -7], 'res': [0, None, None, None, None, None, None], 'i': 1}\n",
      "{'arr': [0, 2, -4, 4, 6, 11, -7], 'res': [0, 2, None, None, None, None, None], 'i': 2}\n",
      "{'arr': [0, 2, -4, 4, 6, 11, -7], 'res': [0, 2, -2, None, None, None, None], 'i': 3}\n",
      "{'arr': [0, 2, -4, 4, 6, 11, -7], 'res': [0, 2, -2, 2, None, None, None], 'i': 4}\n",
      "{'arr': [0, 2, -4, 4, 6, 11, -7], 'res': [0, 2, -2, 2, 8, None, None], 'i': 5}\n",
      "{'arr': [0, 2, -4, 4, 6, 11, -7], 'res': [0, 2, -2, 2, 8, 19, None], 'i': 6}\n",
      "[0, 2, -2, 2, 8, 19, 12]\n"
     ]
    }
   ],
   "source": [
    "# The original list : [3, 4, 1, 7, 9, 1]\n",
    "# The prefix sum list is : [3, 7, 8, 15, 24, 25]\n",
    "\n",
    "\n",
    "\n",
    "def prefix_sum(arr):\n",
    "    res = [None]* len(arr)\n",
    "    for i in range(len(arr)):\n",
    "        # log ->\n",
    "        print(vars())\n",
    "        # <- log\n",
    "        res[i] = sum(arr[:i+1])\n",
    "    return res\n",
    "\n",
    "print(prefix_sum([3, 4, 1, 7, 9, 1]))\n",
    "print(prefix_sum([3, 4, 1, 7, 9, -11]))\n",
    "print(prefix_sum([0, 2, -4, 4, 6, 11, -7]))\n",
    "\n",
    "# 9:04.50 min"
   ]
  },
  {
   "cell_type": "code",
   "execution_count": null,
   "id": "06389cd3-c77c-4f66-954f-fbb00788ea17",
   "metadata": {},
   "outputs": [],
   "source": []
  }
 ],
 "metadata": {
  "kernelspec": {
   "display_name": "Python 3 (ipykernel)",
   "language": "python",
   "name": "python3"
  },
  "language_info": {
   "codemirror_mode": {
    "name": "ipython",
    "version": 3
   },
   "file_extension": ".py",
   "mimetype": "text/x-python",
   "name": "python",
   "nbconvert_exporter": "python",
   "pygments_lexer": "ipython3",
   "version": "3.10.6"
  }
 },
 "nbformat": 4,
 "nbformat_minor": 5
}
