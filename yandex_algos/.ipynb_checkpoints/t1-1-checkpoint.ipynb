{
 "cells": [
  {
   "cell_type": "markdown",
   "id": "affa280c-a663-4cd4-b049-2ae8e128cb50",
   "metadata": {},
   "source": [
    "# Зачем разработчикам изучать алгоритмы и структуры данных?"
   ]
  },
  {
   "cell_type": "markdown",
   "id": "060d6d64-9408-45e8-a986-3398e785bf53",
   "metadata": {},
   "source": [
    "Допустим, мы проводим онлайн-конкурс работ молодых художников. Всего представлено \n",
    "N работ, которые идентифицируются числами от \n",
    "0 до N-1 включительно. Нужно поддержать 3 типа запроса:\n",
    "1. Лайк работы с идентификатором id.\n",
    "2. Дизлайк работы с идентификатором id.\n",
    "3. Вернуть лучшие K работ. Оценку работы будем считать просто: число лайков минус число дизлайков."
   ]
  },
  {
   "cell_type": "code",
   "execution_count": 16,
   "id": "e8aa2e69-6511-4fb2-82a9-05d957730951",
   "metadata": {},
   "outputs": [],
   "source": [
    "class Competition:\n",
    "    def __init__(self, competitors):\n",
    "        self.scores = [0] * competitors\n",
    "\n",
    "    def _change_score(self, comp_ix, work_score):\n",
    "        self.scores[comp_ix] += work_score\n",
    "\n",
    "    def like(self, comp_ix):\n",
    "        self._change_score(comp_ix, 1)\n",
    "\n",
    "    def dislike(self, comp_ix):\n",
    "        self._change_score(comp_ix, -1)\n",
    "\n",
    "    def get_best_works(self, limit):\n",
    "        scores_with_ix = [(c_id, w_id) for c_id, w_id in enumerate(self.scores)]\n",
    "        return sorted(scores_with_ix, key=lambda x: x[1])[::-1][:limit]"
   ]
  },
  {
   "cell_type": "code",
   "execution_count": 17,
   "id": "6e7f49e2-2fb0-4ef2-b7da-be99293b3e67",
   "metadata": {},
   "outputs": [
    {
     "name": "stdout",
     "output_type": "stream",
     "text": [
      "[(2, 3), (6, 2)]\n",
      "[1, -2, 3, 0, -1, -3, 2, -2, 1, 1]\n"
     ]
    }
   ],
   "source": [
    "import random\n",
    "\n",
    "comp = Competition(10)\n",
    "_ = [comp.like(random.randint(0, 9)) for i in range(20)]\n",
    "_ = [comp.dislike(random.randint(0, 9)) for i in range(20)]\n",
    "\n",
    "print(comp.get_best_works(2))\n",
    "print(comp.scores)"
   ]
  },
  {
   "cell_type": "markdown",
   "id": "f8f0ee58-bfbf-4a51-af43-512bb3aef9d9",
   "metadata": {},
   "source": [
    ">💡 В англоязычной литературе часто употребляется термин trade-off, который можно отдалённо перевести как «компромисс». От кандидата на интервью ожидается не просто правильное решение, но и то, насколько он может рассматривать и сравнивать альтернативы."
   ]
  },
  {
   "cell_type": "code",
   "execution_count": null,
   "id": "9f68af70-ada5-4a73-aa31-b0c72f157f13",
   "metadata": {},
   "outputs": [],
   "source": []
  }
 ],
 "metadata": {
  "kernelspec": {
   "display_name": "Python 3 (ipykernel)",
   "language": "python",
   "name": "python3"
  },
  "language_info": {
   "codemirror_mode": {
    "name": "ipython",
    "version": 3
   },
   "file_extension": ".py",
   "mimetype": "text/x-python",
   "name": "python",
   "nbconvert_exporter": "python",
   "pygments_lexer": "ipython3",
   "version": "3.10.6"
  }
 },
 "nbformat": 4,
 "nbformat_minor": 5
}
