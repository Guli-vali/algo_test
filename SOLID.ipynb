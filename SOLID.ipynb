{
 "cells": [
  {
   "cell_type": "markdown",
   "id": "31f537fd-1bfd-4a91-a7a2-4fc33b254bed",
   "metadata": {},
   "source": [
    "# SOLID\n",
    "\n",
    "credits: https://medium.com/nerd-for-tech/solid-principles-python-f09915698d85\n",
    "\n",
    "1. S – Принцип единственной ответственности (Single Responsibility Principle),\n",
    "\n",
    "2. O – Принцип открытости/закрытости (Open‐Closed Principle),\n",
    "\n",
    "3. L – Принцип подстановки Барбары Лисков (Liskov Substitution Principle),\n",
    "\n",
    "4. I – Принцип разделения интерфейсов (Interface Segregation Principle),\n",
    "\n",
    "5. D – Принцип инверсии зависимостей (Dependency Inversion Principle).\n"
   ]
  },
  {
   "cell_type": "markdown",
   "id": "8352554b-15a0-4d4e-84cf-7db591f589ed",
   "metadata": {},
   "source": [
    "# 1. Принцип единственной ответственности\n",
    "\n",
    "## «У класса должна быть лишь одна причина для изменения». "
   ]
  },
  {
   "cell_type": "code",
   "execution_count": 2,
   "id": "7ff5e7c5-8963-4027-9911-9d7f5c29492d",
   "metadata": {},
   "outputs": [
    {
     "name": "stdout",
     "output_type": "stream",
     "text": [
      "jack: 56789\n",
      "\n"
     ]
    }
   ],
   "source": [
    "class PhoneBook:\n",
    "    def __init__(self):\n",
    "        self.contacts = {}\n",
    "\n",
    "    def add_contact(self, name, number):\n",
    "        self.contacts[name] = number\n",
    "\n",
    "    def delete_contact(self, name):\n",
    "        self.contacts.pop(name)\n",
    "\n",
    "    def update_contact(self, name, number):\n",
    "        self.contacts[name] = number\n",
    "\n",
    "    def search_contact(self, name):\n",
    "        return self.contacts[name]\n",
    "\n",
    "    # NEXT LINE BREAKING 1.S - SINGLE RESPONSIBILITY PRINCIPLE\n",
    "    def save_to_csv(self, file_name):\n",
    "        # code to save to csv\n",
    "        pass\n",
    "\n",
    "    # NEXT LINE BREAKING 1.S - SINGLE RESPONSIBILITY PRINCIPLE\n",
    "    def save_to_db(self, db_info):\n",
    "        # code to save to db\n",
    "        pass\n",
    "\n",
    "    def __str__(self):\n",
    "        contact = ''\n",
    "        for name, number in self.contacts.items():\n",
    "            contact += f'{name}: {number}\\n'\n",
    "        return contact\n",
    "\n",
    "\n",
    "contacts = PhoneBook()\n",
    "contacts.add_contact('john', 123457)\n",
    "contacts.add_contact('jack', 56789)\n",
    "contacts.delete_contact('john')\n",
    "print(contacts)"
   ]
  },
  {
   "cell_type": "markdown",
   "id": "35ec8b29-d827-4fff-872c-917f4cffd1b0",
   "metadata": {},
   "source": [
    "# 2. Принцип открытости/закрытости\n",
    "\n",
    "## «Наиболее важный принцип открытости/закрытости гласит «Сущности программы (классы, модули, функции и т.п.) должны быть открыты для расширения, но закрыты для изменений»"
   ]
  },
  {
   "cell_type": "code",
   "execution_count": 3,
   "id": "6b172c67-bc32-458f-825a-25b10bc580e5",
   "metadata": {},
   "outputs": [
    {
     "name": "stdout",
     "output_type": "stream",
     "text": [
      "95.0\n",
      "180.0\n",
      "255.0\n"
     ]
    }
   ],
   "source": [
    "from abc import abstractmethod\n",
    "\n",
    "\n",
    "class CalculateDiscount:\n",
    "    @abstractmethod\n",
    "    def apply_discount(self):\n",
    "        pass\n",
    "\n",
    "\n",
    "class CalculateDiscountShirt(CalculateDiscount):\n",
    "    def __init__(self, price):\n",
    "        self.price = price\n",
    "\n",
    "    def apply_discount(self):\n",
    "        return self.price - (self.price * 0.05)\n",
    "\n",
    "\n",
    "class CalculateDiscountSkirt(CalculateDiscount):\n",
    "    def __init__(self, price):\n",
    "        self.price = price\n",
    "\n",
    "    def apply_discount(self):\n",
    "        return self.price - (self.price * 0.10)\n",
    "\n",
    "\n",
    "class CalculateDiscountAbaya(CalculateDiscount):\n",
    "    def __init__(self, price):\n",
    "        self.price = price\n",
    "\n",
    "    def apply_discount(self):\n",
    "        return self.price - (self.price * 0.15)\n",
    "\n",
    "\n",
    "discounted_shirt = CalculateDiscountShirt(100)\n",
    "print(discounted_shirt.apply_discount())\n",
    "\n",
    "discounted_skirt = CalculateDiscountSkirt(200)\n",
    "print(discounted_skirt.apply_discount())\n",
    "\n",
    "discounted_abaya = CalculateDiscountAbaya(300)\n",
    "print(discounted_abaya.apply_discount())"
   ]
  },
  {
   "cell_type": "markdown",
   "id": "f0de18f3-1e3f-454b-b5bd-5565c085a8b3",
   "metadata": {},
   "source": [
    "# 3. Принцип подстановки Барбары Лисков\n",
    "## «Объекты в программе должны быть заменяемы экземплярами их подтипов без ущерба корректности работы программы»."
   ]
  },
  {
   "cell_type": "code",
   "execution_count": 6,
   "id": "5b41017d-c365-44f6-8066-ad7c51462eae",
   "metadata": {},
   "outputs": [
    {
     "name": "stdout",
     "output_type": "stream",
     "text": [
      "{'Color': 'white', 'breed': 'persian'}\n",
      "{'Color': 'mixed', 'breed': 'persian'}\n",
      "Number of white cats are 1\n"
     ]
    }
   ],
   "source": [
    "class Animal:\n",
    "    def __init__(self, type):\n",
    "        self.type = type\n",
    "        self.animal_properties = {}\n",
    "\n",
    "    def set_properties(self, color, breed):\n",
    "        self.animal_properties = {\"Color\": color, \"breed\": breed}\n",
    "\n",
    "    def get_properties(self):\n",
    "        return self.animal_properties\n",
    "\n",
    "\n",
    "class Cat(Animal):\n",
    "    pass\n",
    "\n",
    "\n",
    "animal = Animal('Cat')\n",
    "animal.set_properties('white', 'persian')\n",
    "print(animal.animal_properties)\n",
    "\n",
    "cat = Cat('Persian')\n",
    "cat.set_properties('mixed', 'persian')\n",
    "print(cat.animal_properties)\n",
    "\n",
    "animals = [animal, cat]\n",
    "\n",
    "\n",
    "def get_white_cats(cats):\n",
    "    white_cats = 0\n",
    "    for cat in cats:\n",
    "        if cat.animal_properties['Color'] == 'white':\n",
    "            white_cats += 1\n",
    "    print(f'Number of white cats are {white_cats}')\n",
    "\n",
    "\n",
    "get_white_cats(animals)"
   ]
  },
  {
   "cell_type": "markdown",
   "id": "ced26ded-9fcf-4f39-b04e-324506bc9c0b",
   "metadata": {},
   "source": [
    "# 4. Принцип разделения интерфейсов\n",
    "## Принцип разделения интерфейсов гласит, что «Ни один клиент не должен зависеть от методов, которые он не использует». "
   ]
  },
  {
   "cell_type": "code",
   "execution_count": 12,
   "id": "931b179b-838f-4c5c-a24c-ce9af79fa848",
   "metadata": {},
   "outputs": [],
   "source": [
    "\"\"\"\n",
    "ISP correct implementation by segregating the larger interface into smaller role interfaces\n",
    "\"\"\"\n",
    "from abc import abstractmethod, ABCMeta\n",
    "\n",
    "\n",
    "class CallingDevice(ABC):\n",
    "    @abstractmethod\n",
    "    def make_calls(self):\n",
    "        pass\n",
    "\n",
    "\n",
    "class MessagingDevice:\n",
    "    @abstractmethod\n",
    "    def send_sms(self):\n",
    "        pass\n",
    "\n",
    "\n",
    "class InternetbrowsingDevice:\n",
    "    @abstractmethod\n",
    "    def browse_internet(self):\n",
    "        pass\n",
    "\n",
    "\n",
    "class SmartPhone(CallingDevice, MessagingDevice, InternetbrowsingDevice):\n",
    "    def make_calls(self):\n",
    "        # implementation\n",
    "        pass\n",
    "\n",
    "    def send_sms(self):\n",
    "        # implementation\n",
    "        pass\n",
    "\n",
    "    def browse_internet(self):\n",
    "        # implementation\n",
    "        pass\n",
    "\n",
    "\n",
    "class LandlinePhone(CallingDevice):\n",
    "    def make_calls(self):\n",
    "        # implementation\n",
    "        pass"
   ]
  },
  {
   "cell_type": "markdown",
   "id": "22853f97-e8ca-4259-9248-f665c891ab3f",
   "metadata": {},
   "source": [
    "# 5. Принцип инверсии зависимостей\n",
    "\n",
    "### Принцип инверсии зависимостей гласит:\n",
    " **1. Модуль высокого уровня не должен зависеть от модулей низкого уровня. И то, и другое должно зависеть от абстракций.**\n",
    " \n",
    " **2. Абстракции не должны зависеть от деталей реализации. Детали реализации должны зависеть от абстракций.**"
   ]
  },
  {
   "cell_type": "code",
   "execution_count": 15,
   "id": "4ecf5c28-375c-4bec-80de-23935dac528d",
   "metadata": {},
   "outputs": [
    {
     "name": "stdout",
     "output_type": "stream",
     "text": [
      "Messi is a player of Fc Barcelona with net worth $80\n",
      "Sergio Busquets is a player of Fc Barcelona with net worth $45\n",
      "<__main__.MembershipReportOfBarcelona object at 0x7fd8b0508070>\n"
     ]
    }
   ],
   "source": [
    "from enum import Enum\n",
    "\n",
    "from abc import ABC, abstractmethod\n",
    "\n",
    "\"\"\" dependency inversion correct implementation \"\"\"\n",
    "\n",
    "\n",
    "class Clubs(Enum):\n",
    "    Barcelona = 1\n",
    "    Madrid = 2\n",
    "    Chelsea = 3\n",
    "\n",
    "\n",
    "class FindClubMembership(ABC):\n",
    "    @abstractmethod\n",
    "    def find_players_of_club(self, club):\n",
    "        pass\n",
    "\n",
    "\n",
    "class Player:\n",
    "    def __init__(self, name, net_worth):\n",
    "        self.name = name\n",
    "        self.net_worth = net_worth\n",
    "\n",
    "\n",
    "class ClubMembership(FindClubMembership):\n",
    "    def __init__(self):\n",
    "        self.members = []\n",
    "\n",
    "    def add_members(self, player, club):\n",
    "        self.members.append((player, club))\n",
    "\n",
    "    def find_players_of_club(self, club):\n",
    "        for members in self.members:\n",
    "            if members[1] == club:\n",
    "                yield members[0]\n",
    "\n",
    "\n",
    "class MembershipReportOfBarcelona:\n",
    "    def __init__(self, find_membership):\n",
    "        for members in find_membership.find_players_of_club(Clubs.Barcelona):\n",
    "            print(f'{members.name} is a player of Fc Barcelona with net worth ${members.net_worth}')\n",
    "\n",
    "\n",
    "player1 = Player('Messi', 80)\n",
    "player2 = Player('Benzema', 70)\n",
    "player3 = Player('Sergio Busquets', 45)\n",
    "\n",
    "\n",
    "club_membership = ClubMembership()\n",
    "club_membership.add_members(player1, Clubs.Barcelona)\n",
    "club_membership.add_members(player2, Clubs.Madrid)\n",
    "club_membership.add_members(player3, Clubs.Barcelona)\n",
    "print(MembershipReportOfBarcelona(club_membership))"
   ]
  },
  {
   "cell_type": "code",
   "execution_count": null,
   "id": "4a13a0da-8c51-4cd5-9515-6a10c68ee755",
   "metadata": {},
   "outputs": [],
   "source": []
  }
 ],
 "metadata": {
  "kernelspec": {
   "display_name": "Python 3 (ipykernel)",
   "language": "python",
   "name": "python3"
  },
  "language_info": {
   "codemirror_mode": {
    "name": "ipython",
    "version": 3
   },
   "file_extension": ".py",
   "mimetype": "text/x-python",
   "name": "python",
   "nbconvert_exporter": "python",
   "pygments_lexer": "ipython3",
   "version": "3.8.10"
  }
 },
 "nbformat": 4,
 "nbformat_minor": 5
}
