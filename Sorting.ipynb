{
 "cells": [
  {
   "cell_type": "markdown",
   "id": "a1860a47-6227-40f4-848e-309438bc7353",
   "metadata": {},
   "source": [
    "# Сортировка пузырьком"
   ]
  },
  {
   "cell_type": "code",
   "execution_count": 9,
   "id": "e861d3f2-9da7-4438-8755-11e190b78f8f",
   "metadata": {},
   "outputs": [
    {
     "name": "stdout",
     "output_type": "stream",
     "text": [
      "mod: [12, 1, 1, 3, 4, 5, 9, 310, 999, 1]\n",
      "mod: [310, 1, 1, 3, 4, 5, 9, 12, 999, 1]\n",
      "mod: [999, 1, 1, 3, 4, 5, 9, 12, 310, 1]\n",
      "mod: [1, 999, 1, 3, 4, 5, 9, 12, 310, 1]\n",
      "mod: [1, 1, 999, 3, 4, 5, 9, 12, 310, 1]\n",
      "mod: [1, 1, 3, 999, 4, 5, 9, 12, 310, 1]\n",
      "mod: [1, 1, 3, 4, 999, 5, 9, 12, 310, 1]\n",
      "mod: [1, 1, 3, 4, 5, 999, 9, 12, 310, 1]\n",
      "mod: [1, 1, 3, 4, 5, 9, 999, 12, 310, 1]\n",
      "mod: [1, 1, 3, 4, 5, 9, 12, 999, 310, 1]\n",
      "mod: [1, 1, 3, 4, 5, 9, 12, 310, 999, 1]\n",
      "mod: [1, 1, 1, 4, 5, 9, 12, 310, 999, 3]\n",
      "mod: [1, 1, 1, 3, 5, 9, 12, 310, 999, 4]\n",
      "mod: [1, 1, 1, 3, 4, 9, 12, 310, 999, 5]\n",
      "mod: [1, 1, 1, 3, 4, 5, 12, 310, 999, 9]\n",
      "mod: [1, 1, 1, 3, 4, 5, 9, 310, 999, 12]\n",
      "mod: [1, 1, 1, 3, 4, 5, 9, 12, 999, 310]\n",
      "mod: [1, 1, 1, 3, 4, 5, 9, 12, 310, 999]\n",
      "[1, 1, 1, 3, 4, 5, 9, 12, 310, 999]\n"
     ]
    }
   ],
   "source": [
    "a = [9, 1, 111, 3, 4, 12, 5, 310, 999, 1]\n",
    "\n",
    "\n",
    "def bubble_sort(arr):\n",
    "    for i in range(len(arr)):\n",
    "        for k in range(len(arr)):\n",
    "            if arr[i] < arr[k]:\n",
    "                _arr_el = arr[i]\n",
    "                arr[i] = arr[k]\n",
    "                arr[k] = _arr_el\n",
    "                print(f'mod: {arr}')\n",
    "    return arr\n",
    "\n",
    "print(bubble_sort(a))\n",
    "            "
   ]
  },
  {
   "cell_type": "markdown",
   "id": "6c5d74e7-cf2e-4c83-8238-6469ab28ca3b",
   "metadata": {},
   "source": [
    "# Сортировка выбором"
   ]
  },
  {
   "cell_type": "code",
   "execution_count": 33,
   "id": "e28e46dc-3df5-4154-8bcd-43fc809d3078",
   "metadata": {},
   "outputs": [
    {
     "name": "stdout",
     "output_type": "stream",
     "text": [
      "starting from [9, 1, 111, 3, 4, 12, 5, 310, 999, 1]\n",
      " \n",
      " min_ix: 0 window: [1, 111, 3, 4, 12, 5, 310, 999]\n",
      "\n",
      " mod: [1, 9, 111, 3, 4, 12, 5, 310, 999, 1]\n",
      " \n",
      " min_ix: 1 window: [111, 3, 4, 12, 5, 310, 999]\n",
      "\n",
      " mod: [1, 1, 111, 3, 4, 12, 5, 310, 999, 9]\n",
      " \n",
      " min_ix: 2 window: [3, 4, 12, 5, 310, 999]\n",
      "\n",
      " mod: [1, 1, 3, 111, 4, 12, 5, 310, 999, 9]\n",
      " \n",
      " min_ix: 3 window: [4, 12, 5, 310, 999]\n",
      "\n",
      " mod: [1, 1, 3, 4, 111, 12, 5, 310, 999, 9]\n",
      " \n",
      " min_ix: 4 window: [12, 5, 310, 999]\n",
      "\n",
      " mod: [1, 1, 3, 4, 5, 12, 111, 310, 999, 9]\n",
      " \n",
      " min_ix: 5 window: [111, 310, 999]\n",
      "\n",
      " mod: [1, 1, 3, 4, 5, 9, 111, 310, 999, 12]\n",
      " \n",
      " min_ix: 6 window: [310, 999]\n",
      "\n",
      " mod: [1, 1, 3, 4, 5, 9, 12, 310, 999, 111]\n",
      " \n",
      " min_ix: 7 window: [999]\n",
      "\n",
      " mod: [1, 1, 3, 4, 5, 9, 12, 111, 999, 310]\n",
      " \n",
      " min_ix: 8 window: []\n",
      "\n",
      " mod: [1, 1, 3, 4, 5, 9, 12, 111, 310, 999]\n",
      " \n",
      " min_ix: 9 window: []\n",
      "\n",
      " mod: [1, 1, 3, 4, 5, 9, 12, 111, 310, 999]\n",
      "[1, 1, 3, 4, 5, 9, 12, 111, 310, 999]\n"
     ]
    }
   ],
   "source": [
    "a = [9, 1, 111, 3, 4, 12, 5, 310, 999, 1]\n",
    "\n",
    "def selection_sort(arr):\n",
    "    print(f'starting from {arr}')\n",
    "    size = len(arr)\n",
    "    for i in range(size):\n",
    "        min_ix = i\n",
    "        print(f' \\n min_ix: {min_ix} window: {arr[min_ix+1:size-1]}')\n",
    "        for k in range(min_ix+1, size):\n",
    "            if arr[k] < arr[min_ix]:\n",
    "                min_ix = k\n",
    "        (arr[i], arr[min_ix]) = (arr[min_ix], arr[i])\n",
    "        print(f'\\n mod: {arr}')\n",
    "    return arr\n",
    "        \n",
    "\n",
    "print(selection_sort(a))"
   ]
  },
  {
   "cell_type": "markdown",
   "id": "fee70098-ad01-4759-96e2-f29bffdb39de",
   "metadata": {},
   "source": [
    "# Быстрая сортировка"
   ]
  },
  {
   "cell_type": "code",
   "execution_count": 46,
   "id": "fb2b66a6-6f81-4171-b46d-a85ea46ea17d",
   "metadata": {},
   "outputs": [
    {
     "name": "stdout",
     "output_type": "stream",
     "text": [
      "5\n",
      "[3, 2, 5, 4, 5, 6, 12, 111, 999, 310, 9]\n",
      "4\n",
      "[3, 2, 5, 4, 5, 6, 12, 111, 999, 310, 9]\n",
      "2\n",
      "[3, 2, 4, 5, 5, 6, 12, 111, 999, 310, 9]\n",
      "0\n",
      "[2, 3, 4, 5, 5, 6, 12, 111, 999, 310, 9]\n",
      "6\n",
      "[2, 3, 4, 5, 5, 6, 9, 111, 999, 310, 12]\n",
      "7\n",
      "[2, 3, 4, 5, 5, 6, 9, 12, 999, 310, 111]\n",
      "8\n",
      "[2, 3, 4, 5, 5, 6, 9, 12, 111, 310, 999]\n",
      "10\n",
      "[2, 3, 4, 5, 5, 6, 9, 12, 111, 310, 999]\n",
      "[2, 3, 4, 5, 5, 6, 9, 12, 111, 310, 999]\n"
     ]
    }
   ],
   "source": [
    "\n",
    "\n",
    "def partition(arr, low, high):\n",
    "\n",
    "    # choose the rightmost element as pivot\n",
    "    pivot = arr[high]\n",
    "\n",
    "    # pointer for greater element\n",
    "    i = low - 1\n",
    "\n",
    "    for j in range(low, high):\n",
    "        if arr[j] <= pivot:\n",
    "            \n",
    "            # If element smaller than pivot is found\n",
    "            # swap it with the greater element pointed by i\n",
    "            i += 1\n",
    "\n",
    "            # Swapping element at i with element at j\n",
    "            (arr[i], arr[j]) = (arr[j], arr[i])\n",
    "\n",
    "    # Swap the pivot element with the greater element specified by i\n",
    "    (arr[i + 1], arr[high]) = (arr[high], arr[i + 1])\n",
    "\n",
    "    # Return the position from where partition is done\n",
    "    return i + 1\n",
    "\n",
    "\n",
    "def quick_sort(arr, low, high):\n",
    "    if low < high:\n",
    " \n",
    "        # Find pivot element such that\n",
    "        # element smaller than pivot are on the left\n",
    "        # element greater than pivot are on the right\n",
    "        pi = partition(arr, low, high)\n",
    "\n",
    "        print(pi)\n",
    "        print(arr)\n",
    " \n",
    "        # Recursive call on the left of pivot\n",
    "        quick_sort(arr, low, pi - 1)\n",
    " \n",
    "        # Recursive call on the right of pivot\n",
    "        quick_sort(arr, pi + 1, high)\n",
    "\n",
    "\n",
    "a = [9, 3, 111, 2, 5, 4, 12, 5, 999, 310, 6]\n",
    "quick_sort(a, 0, len(a)-1)\n",
    "print(a)\n"
   ]
  },
  {
   "cell_type": "code",
   "execution_count": null,
   "id": "22f7e83c-bd56-4c72-ae7b-95b885932fc5",
   "metadata": {},
   "outputs": [],
   "source": []
  }
 ],
 "metadata": {
  "kernelspec": {
   "display_name": "Python 3 (ipykernel)",
   "language": "python",
   "name": "python3"
  },
  "language_info": {
   "codemirror_mode": {
    "name": "ipython",
    "version": 3
   },
   "file_extension": ".py",
   "mimetype": "text/x-python",
   "name": "python",
   "nbconvert_exporter": "python",
   "pygments_lexer": "ipython3",
   "version": "3.8.10"
  }
 },
 "nbformat": 4,
 "nbformat_minor": 5
}
