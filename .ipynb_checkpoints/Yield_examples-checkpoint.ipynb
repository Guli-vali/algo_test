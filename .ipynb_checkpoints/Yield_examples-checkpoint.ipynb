{
 "cells": [
  {
   "cell_type": "code",
   "execution_count": 1,
   "id": "3e2a4da9-cb4d-44c8-9052-86ae6a33979a",
   "metadata": {},
   "outputs": [],
   "source": [
    "num1 = 10\n",
    "num2 = 20"
   ]
  },
  {
   "cell_type": "code",
   "execution_count": 3,
   "id": "2985eb9a-74bb-4933-a60b-bcd33581076a",
   "metadata": {},
   "outputs": [
    {
     "name": "stdout",
     "output_type": "stream",
     "text": [
      "30\n"
     ]
    }
   ],
   "source": [
    "def mathOP():\n",
    "    return num1+num2\n",
    "    return num1-num2\n",
    "print(mathOP())"
   ]
  },
  {
   "cell_type": "code",
   "execution_count": 4,
   "id": "d53e531a-8476-4483-affe-1876fc8371db",
   "metadata": {},
   "outputs": [
    {
     "name": "stdout",
     "output_type": "stream",
     "text": [
      "The sum value is:  30\n",
      "The difference value is:  -10\n",
      "The multiplication value is:  200\n",
      "The division value is:  0.5\n"
     ]
    }
   ],
   "source": [
    "def sumOP():\n",
    "    return num1+num2\n",
    "\n",
    "def subtractOP():\n",
    "    return num1-num2\n",
    "\n",
    "def multiplicationOP():\n",
    "    return num1*num2\n",
    "\n",
    "def divisionOP():\n",
    "    return num1/num2\n",
    "\n",
    "print(\"The sum value is: \",sumOP())\n",
    "print(\"The difference value is: \",subtractOP())\n",
    "print(\"The multiplication value is: \",multiplicationOP())\n",
    "print(\"The division value is: \",divisionOP())"
   ]
  },
  {
   "cell_type": "markdown",
   "id": "795a6096-00a8-4b6d-ae89-a81e652aa4d7",
   "metadata": {},
   "source": [
    "# YIELD ALTERNATIVE"
   ]
  },
  {
   "cell_type": "code",
   "execution_count": 7,
   "id": "ac03a29e-d45c-47a3-acb4-8b0e1a72ef00",
   "metadata": {},
   "outputs": [
    {
     "name": "stdout",
     "output_type": "stream",
     "text": [
      "[30, -10, 200, 0.5]\n",
      "Printing the values:\n",
      "30\n",
      "-10\n",
      "200\n",
      "0.5\n"
     ]
    }
   ],
   "source": [
    "num1 =10\n",
    "num2=20\n",
    "\n",
    "def mathOP():\n",
    "    yield num1+num2\n",
    "    yield num1-num2\n",
    "    yield num1*num2\n",
    "    yield num1/num2\n",
    "\n",
    "print([i for i in mathOP()])\n",
    "\n",
    "print(\"Printing the values:\")\n",
    "for i in mathOP():\n",
    "    print(i)"
   ]
  },
  {
   "cell_type": "code",
   "execution_count": null,
   "id": "e5adbc4d-e777-413e-af09-d7e5fd73c7ce",
   "metadata": {},
   "outputs": [],
   "source": []
  }
 ],
 "metadata": {
  "kernelspec": {
   "display_name": "Python 3 (ipykernel)",
   "language": "python",
   "name": "python3"
  },
  "language_info": {
   "codemirror_mode": {
    "name": "ipython",
    "version": 3
   },
   "file_extension": ".py",
   "mimetype": "text/x-python",
   "name": "python",
   "nbconvert_exporter": "python",
   "pygments_lexer": "ipython3",
   "version": "3.8.10"
  }
 },
 "nbformat": 4,
 "nbformat_minor": 5
}
