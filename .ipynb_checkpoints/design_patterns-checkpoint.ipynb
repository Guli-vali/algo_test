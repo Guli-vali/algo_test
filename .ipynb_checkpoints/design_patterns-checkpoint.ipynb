{
 "cells": [
  {
   "cell_type": "markdown",
   "id": "9088ba98-954a-4498-b29e-f6e51bc466ad",
   "metadata": {},
   "source": [
    "# Паттерны проектирования"
   ]
  },
  {
   "cell_type": "markdown",
   "id": "650cf7e0-6856-4146-9ad7-7cfc0b10dddd",
   "metadata": {},
   "source": [
    "### Классификация паттернов проектирования\r\n",
    "\r\n",
    "Изначально существовало две основные классификации паттернов проектирования:\r\n",
    "\r\n",
    "1. Какую проблему решает паттерн.\r\n",
    "2. Как относится паттерн к классам или объектам.там."
   ]
  },
  {
   "cell_type": "markdown",
   "id": "39260c60-4f8f-462b-8233-967b1fce0972",
   "metadata": {},
   "source": [
    "Принимая во внимание первую классификацию, паттерны можно разделить на три группы:\n",
    "\n",
    "* Порождающие – предоставляют возможность создания контролируемым образом, инициализации и конфигурации объектов, классов и типов данных на основе требуемых критериев.\n",
    "* Структурные – помогают организовать структуры связанных объектов и классов, предоставляя новые функциональные возможности.\n",
    "* Поведенческие – направлены на выявление общих моделей взаимодействия между объектами."
   ]
  },
  {
   "cell_type": "markdown",
   "id": "fec52fdb-f5bc-4e69-a827-c3e749cfc57d",
   "metadata": {},
   "source": [
    "## Паттерн 1: Синглтон"
   ]
  },
  {
   "cell_type": "code",
   "execution_count": 10,
   "id": "09eceb38-7846-4d86-8f9d-d780cf7ca6a1",
   "metadata": {},
   "outputs": [],
   "source": [
    "# НАИВНЫЙ ПОДХОД С НАРУШЕНИЕМ ПРИНЦИПА ЕДИННОЙ ОТВЕТСТВЕННОСТИ\n",
    "class Logger:\n",
    "    @staticmethod\n",
    "    def get_instance():\n",
    "        if '_instance' not in Logger.__dict__:\n",
    "            Logger._instance = Logger()\n",
    "\n",
    "        return Logger._instance\n",
    "\n",
    "    def write_log(self, path):\n",
    "        pass\n",
    "\n",
    "s1 = Logger.get_instance()\n",
    "s2 = Logger.get_instance()\n",
    "\n",
    "assert s1 is s2"
   ]
  },
  {
   "cell_type": "code",
   "execution_count": 12,
   "id": "1fe7c687-fab4-4054-ac89-c6b47d89de99",
   "metadata": {},
   "outputs": [],
   "source": [
    "# ПРАВИЛЬНЫЙ ПОДХОД\n",
    "\n",
    "class Singleton:\n",
    "    _instances = {}\n",
    "\n",
    "    def __new__(cls, *args, **kwargs):\n",
    "        if cls not in cls._instances:\n",
    "            instance = super().__new__(cls)\n",
    "            cls._instances[cls] = instance\n",
    "        return cls._instances[cls]\n",
    "        "
   ]
  },
  {
   "cell_type": "code",
   "execution_count": null,
   "id": "03c8812e-02e0-43a4-a649-a5880c9d213f",
   "metadata": {},
   "outputs": [],
   "source": []
  }
 ],
 "metadata": {
  "kernelspec": {
   "display_name": "Python 3 (ipykernel)",
   "language": "python",
   "name": "python3"
  },
  "language_info": {
   "codemirror_mode": {
    "name": "ipython",
    "version": 3
   },
   "file_extension": ".py",
   "mimetype": "text/x-python",
   "name": "python",
   "nbconvert_exporter": "python",
   "pygments_lexer": "ipython3",
   "version": "3.8.10"
  }
 },
 "nbformat": 4,
 "nbformat_minor": 5
}
