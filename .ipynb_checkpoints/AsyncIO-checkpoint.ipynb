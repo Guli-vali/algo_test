{
 "cells": [
  {
   "cell_type": "markdown",
   "id": "38b7573f-e526-4207-80b0-9413ab761539",
   "metadata": {
    "jp-MarkdownHeadingCollapsed": true
   },
   "source": [
    "# 1. Что такое асинхронное программирование\n",
    "\n",
    "Асинхронное программирование — это концепция программирования, при применении которой запуск длительных операций происходит без ожидания их завершения и не блокирует дальнейшее выполнение программы.\n",
    "\n",
    "### 1.1. Асинхронные задачи\n",
    "\n",
    "Выполнение асинхронного вызова функции часто приводит к предоставлении вызывающей стороне некоего идентификатора запроса, который вызывающая сторона может использовать для того, чтобы проверить состояние запроса или получить результаты. Такие идентификаторы часто называют объектами, ждущими результата выполнения задачи (**future, объект Future, преднамеченное значение, «футура»**).\n",
    "\n",
    "***Объект future***: идентификатор асинхронного вызова функции, позволяющий проверять состояние вызова и получать результаты работы функции.\n",
    "\n",
    ">  ***Асинхронная задача***: этот термин используется для обозначения сущности, представляющей собой объединение асинхронного вызова функции и порождённого этим вызовом объекта Future.\n",
    "\n",
    "\n",
    "### 1.2. Асинхронное программирование\n",
    "\n",
    ">  ***Асинхронное программирование***: использование особых приёмов асинхронного выполнения кода — таких, как выполнение асинхронных задач или вызовов функций.\n",
    "\n",
    "Комбинация неблокирующего ввода/вывода с асинхронным программированием так распространена, что её обычно называют асинхронным вводом/выводом.\n",
    "\n",
    ">  ***Асинхронный ввод/вывод***: условное сокращение, которое означает комбинацию асинхронного программирование и неблокирующей обработки ввода/вывода.\n",
    "\n",
    "\n",
    "### 1.3. Асинхронное программирование в Python\n",
    "\n",
    ">  ***Asyncio***: асинхронная среда программирования, представленная в Python благодаря модулю asyncio.\n",
    "\n",
    "\n",
    "\n",
    "# 2. Что такое asyncio\n",
    "\n",
    "Если говорить конкретнее, то понятие «asyncio» имеет отношение к двум элементам:\n",
    "1. Добавление модуля asyncio в стандартную библиотеку Python в Python 3.4.\n",
    "2. Добавление выражений async/await в языковой арсенал Python в Python 3.5.\n",
    "\n",
    "Всё это вместе — модуль и изменения, внесённые в язык — обеспечило возможность разработки Python-программ, поддерживающих конкурентное выполнение кода, основанное на корутинах, позволило использовать неблокирующий ввод/вывод и механизмы асинхронного программирования.\n",
    "\n",
    "### 2.1. Изменения, внесённые в Python для добавления в язык поддержки корутин\n",
    "\n",
    "Корутина — это функция, выполнение которой можно приостановить и возобновить.\n",
    "\n",
    "> ***Корутина***: корутины — это более общая форма подпрограмм. Подпрограммы имеют одну точку входа и одну точку выхода. А корутины поддерживают множество точек входа, выхода и возобновления их выполнения.\n",
    "\n",
    "\n",
    "```python\n",
    "# определение корутины\n",
    "async def custom_coro():\n",
    "    # ...\n",
    "\n",
    "# создание объекта корутины\n",
    "coro = custom_coro()\n",
    "# Вызов функции корутины создаёт объект корутины, в основе которого лежит новый класс. При этом функция корутины не выполняется.\n",
    "# Корутина может запустить другую корутину посредством выражения await.\n",
    "\n",
    "\n",
    "# Это выражение приостанавливает выполнение вызывающей стороны и планирует выполнение целевого объекта.\n",
    "# приостановить выполнение кода и запланировать выполнение целевого объекта\n",
    "await custom_coro()\n",
    "\n",
    "```\n",
    "\n",
    "Асинхронный итератор — это итератор, который выдаёт объекты, допускающие ожидание.\n",
    "\n",
    ">  ***Асинхронный итератор***: объект, который реализует методы aiter() и anext(). Метод anext() должен возвращать объект, допускающий ожидание. Конструкция async for разрешает объекты, допускающие ожидание, возвращённые методом anext() асинхронного итератора до тех пор, пока он не вызовет исключение StopAsyncIteration.\n",
    "\n",
    "\n",
    "```python\n",
    "# обход асинхронного итератора\n",
    "async for item in async_iterator:\n",
    "    print(item)\n",
    "```\n",
    "\n",
    "\n",
    "> ***Асинхронный менеджер контекста*** — это менеджер контекста, который может приостанавливать выполнение в своих методах enter и exit.\n",
    "\n",
    "### 2.2. Модуль asyncio\n",
    "\n",
    "***Asyncio*** — это библиотека для написания конкурентного кода с использованием синтаксических конструкций async/await.\n",
    "\n",
    "\n",
    "# 3. Когда стоит использовать модуль asyncio\n",
    "\n",
    "### 3.1. Причины использования asyncio в Python-проектах\n",
    "\n",
    "1. Конкурентность, основанная на потоках, доступна Python-программистам благодаря модулю threading, она поддерживается на уровне операционной системы, в которой работает Python-программа. Такая конкурентность подходит для обработки блокирующих операций ввода/вывода, таких, как запись и чтение данных при работе с файлами, сокетами, устройствами.\n",
    "\n",
    "2. Конкурентность, основанная на процессах, реализуется на основе механизмов из модуля multiprocessing. Её, как и в случае с потоками, поддерживает операционная система. Она подходит для решения задач, скорость выполнения которых привязана к производительности CPU, но которые при этом не предусматривают интенсивного межпроцессного взаимодействия. Это, например, тяжёлые вычислительные задачи.\n",
    "\n",
    "3. Корутины — это альтернатива потокам и процессам. Программисту их предоставляет сам язык Python и среда его выполнения (стандартный интерпретатор), а их поддержка основана на модуле asyncio. Они подходят для обработки неблокируюих операций ввода/вывода с использованием подпроцессов и сокетов. Впрочем, заниматься блокирующим вводом/выводом и решать тяжёлые вычислительные задачи можно, используя подход, имитирующий решение неблокирующих задач, когда в недрах программы всё сводится к применению потоков и процессов.\n",
    "\n",
    "\n",
    "Потоки и процессы позволяют достичь многозадачности через механизмы операционной системы, которая решает — какой поток или процесс надо запустить, когда его надо запустить, сколько процессорного времени ему дать. Операционная система быстро переключается между потоками и процессами, приостанавливая те, которые отработали отведённое им время, и возобновляя выполнение тех, которым выделено время на работу. Это называют ***вытесняющей многозадачностью***.\n",
    "\n",
    "А корутины в Python реализуют альтернативный подход к многозадачности — ***кооперативную многозадачность***.\n",
    "\n",
    "\n",
    "ПРИЧИНЫ:\n",
    "1. Кооперативная многозадачность это — альтернативный, интересный и мощный подход к конкурентности, отличающийся от подхода, основанного на потоках и процессах.\n",
    "2. Программист может решить применять корутины из-за их масштабируемости.\n",
    "3. Асинхронное програмирование как таковое\n",
    "4. Неблокирующий ввод/вывод\n",
    "\n",
    "\n",
    "\n",
    "# 4. Корутины в Python\n",
    "\n",
    "### 4.1. Что такое корутина\n",
    "\n",
    "> ***Корутина*** — это метод, который можно приостановить, когда у нас имеется задача, выполнение которой может занять много времени. Потом, когда эта задача будет завершена, метод можно возобновить.\n",
    "\n",
    "Отличие функций(подпрограмм) от корутин в том что корутины могут самостоятельно приостанавливать и возобновлять своё выполнение много раз до возврата значения и выхода из них.\n",
    "\n",
    "\n",
    "### 4.3. Сравнение корутин и генераторов\n",
    "\n",
    "Мы можем считать генераторы корутинами особого типа, на основе которых реализуется кооперативная многозадачность в циклах.\n",
    "\n",
    "> Генераторы, ещё известные как полукорутины, это — подмножество корутин.\n",
    "\n",
    "\n",
    "### 4.4. Сравнение корутин и задач\n",
    "\n",
    "* Подпрограммы и корутины могут представлять в программах «задачи».\n",
    "\n",
    "* Но в Python есть особый объект, представляющий задачу. Это — объект asyncio.Task\n",
    "\n",
    "> Объект, похожий на объект Future, который отвечает за выполнение Python-корутин. […] Задачи используются для выполнения корутин в цикле событий.\n",
    "\n",
    "* Корутину можно обернуть в объект asyncio.Task и выполнить независимо — в противовес её выполнению напрямую, внутри другой корутины. Объект Task даёт средства для асинхронного выполнения корутин.\n",
    "\n",
    "***Задача***: обёрнутая корутина, которая может быть выполнена независимо.\n",
    "\n",
    "* Это позволяет обёрнутой корутине выполняться в фоновом режиме. Вызывающая корутина может продолжить выполнять инструкции вместо того, чтобы ожидать возврата управления от другой корутины.\n",
    "\n",
    "* Объект Task не может существовать сам по себе. В него обязательно должна быть обёрнута корутина.\n",
    "\n",
    "* В результате получается, что объект Task, представляющий задачу — это корутина, но корутина — это не задача.\n",
    "\n",
    "\n",
    "### 4.5. Сравнение корутин и потоков\n",
    "\n",
    "Поток — это объект, который создаёт и которым управляет операционная система. Он представлен в Python объектом threading.Thread.\n",
    "\n",
    "***Поток***: им управляет операционная система, он представлен Python-объектом.\n",
    "\n",
    "> Цена запуска корутины — это цена вызова функции. После того, как корутина активируется, она использует меньше 1 Кб памяти до тех пор, пока не отработает.\n",
    "\n",
    "Корутины выполняются в пределах одного потока, в результате один поток может выполнять код множества корутин.\n",
    "\n",
    "\n",
    "### 4.6. Сравнение корутин и процессов\n",
    "\n",
    "Python-процесс — это отдельный экземпляр Python-интерпретатора.\n",
    "\n",
    "Процессы, как и потоки, создаёт операционная система, она же ими управляет. Они представлены объектом multiprocessing.Process.\n",
    "\n",
    "***Процесс***: им управляет операционная система, он представлен Python-объектом.\n",
    "\n",
    "\n",
    "Старый подход к асинхронности в питоне:\n",
    "\n",
    "```python\n",
    "# объявление собственной корутины в Python 3.4\n",
    "@asyncio.coroutine\n",
    "def custom_coro():\n",
    "    # приостановка и выполнение другой корутины\n",
    "    yield from asyncio.sleep(1)\n",
    "```\n",
    "\n",
    "\n",
    "Мы можем сказать, что корутины были добавлены в Python в виде стандартных возможностей языка в версии 3.5.\n",
    "\n",
    "Сюда входят изменения, внесённые в язык, такие, как выражения \n",
    "```python\n",
    "async def, await, async with и async for, а так же — тип coroutine.\n",
    "```\n"
   ]
  },
  {
   "cell_type": "markdown",
   "id": "ab08add9-bfa2-4590-9bdb-d7db8f4dae91",
   "metadata": {},
   "source": [
    "# 5. Определение, создание и запуск корутин\n",
    "\n",
    "### 5.1. Как определить корутину\n",
    "\n",
    "> Функция корутины: функция, которая возвращает объект корутины.\n",
    "> Функцию корутины можно определить,пользуясь командой async def,\n",
    "> она может содержать ключевые слова await, async for и async with."
   ]
  },
  {
   "cell_type": "code",
   "execution_count": 7,
   "id": "fa7b5123-34f3-4b60-a127-b65eb9d45d8c",
   "metadata": {},
   "outputs": [],
   "source": [
    "import asyncio\n",
    "\n",
    "# определение корутины\n",
    "async def custom_coro():\n",
    "    # ожидание другой корутины\n",
    "    await asyncio.sleep(1)"
   ]
  },
  {
   "cell_type": "markdown",
   "id": "178f2097-7aea-4f1a-a236-ade81b295a3b",
   "metadata": {},
   "source": [
    "### 5.2. Как создать корутину\n",
    "\n",
    "```python\n",
    "# создание корутины\n",
    "coro = custom_coro()\n",
    "```\n",
    "\n",
    "У Python-объекта корутины есть методы — такие, как send() и close(). Он имеет тип coroutine."
   ]
  },
  {
   "cell_type": "code",
   "execution_count": 2,
   "id": "a31e400e-8692-4284-8ea9-a8b454759e9a",
   "metadata": {},
   "outputs": [
    {
     "name": "stdout",
     "output_type": "stream",
     "text": [
      "<class 'coroutine'>\n",
      "hello from async world\n"
     ]
    }
   ],
   "source": [
    "import asyncio\n",
    "# проверка типа корутины\n",
    " \n",
    "# определение корутины\n",
    "async def custom_coro():\n",
    "    # ожидание другой корутины\n",
    "    print('hello from async world')\n",
    "    await asyncio.sleep(1)\n",
    " \n",
    "# создание корутины\n",
    "coro = custom_coro()\n",
    "# проверка типа корутины\n",
    "print(type(coro))\n",
    "\n",
    "await coro"
   ]
  },
  {
   "cell_type": "markdown",
   "id": "6c3e3e90-88aa-41d3-bf25-37998f66d471",
   "metadata": {},
   "source": [
    "### 5.3. Как запустить корутину из Python-кода"
   ]
  },
  {
   "cell_type": "code",
   "execution_count": 7,
   "id": "6cf062fd-9b70-4c53-ae65-155c28677411",
   "metadata": {},
   "outputs": [
    {
     "name": "stdout",
     "output_type": "stream",
     "text": [
      "Hi from corutine\n"
     ]
    }
   ],
   "source": [
    "import asyncio\n",
    "\n",
    "# определение корутины\n",
    "async def custom_coro():\n",
    "    # ожидание другой корутины\n",
    "    print('Hi from corutine')\n",
    "    await asyncio.sleep(1)\n",
    "    return 'RESULT'\n",
    " \n",
    "# главная корутина\n",
    "async def main():\n",
    "    # выполнение нашей корутины\n",
    "    await custom_coro()\n",
    " \n",
    "# запуск программы, основанной на корутинах\n",
    "# asyncio.run(main())\n",
    "\n",
    "await main()"
   ]
  },
  {
   "cell_type": "markdown",
   "id": "02dec6da-2fbd-4227-b3da-2b6b82e96bb7",
   "metadata": {},
   "source": [
    "# 6. Цикл событий asyncio"
   ]
  },
  {
   "cell_type": "markdown",
   "id": "2c8fbeb8-0fa5-4913-be91-c5abbdee3f50",
   "metadata": {},
   "source": [
    "### 6.1. Что такое цикл событий asyncio\n",
    "\n",
    "Цикл событий — это среда для выполнения корутин в одном потоке.\n",
    "\n",
    "> Asyncio — это библиотека для выполнения этих корутин в асинхронной манере с использованием модели конкурентности, известной под названием «однопоточный цикл событий».\n",
    "\n",
    "Он отвечает за решение множества задач. Вот некоторые из них:\n",
    "\n",
    "1. Выполнение корутин.\n",
    "2. Выполнение коллбэков.\n",
    "3. Выполнение сетевых операций ввода/вывода.\n",
    "4. Выполнение подпроцессов.\n"
   ]
  },
  {
   "cell_type": "markdown",
   "id": "27c4b74f-c642-40aa-94c1-f549df77feee",
   "metadata": {},
   "source": [
    "### 6.2. Запуск цикла событий и получение ссылки на его объект\n",
    "\n",
    "Обычно в asyncio-приложениях ссылки на объекты циклов событий получают, вызывая функцию asyncio.run().\n",
    "\n",
    "> Эта функция всегда создаёт новый цикл событий и в конце завершает его работу. Её следует использовать как основную точку входа для asyncio-программ, в идеале её нужно вызывать в программах лишь один раз."
   ]
  },
  {
   "cell_type": "markdown",
   "id": "1a688412-ba6c-4624-8a1a-1b9e63b5f67a",
   "metadata": {},
   "source": [
    "Если цикл событий asyncio уже выполняется — доступ к нему можно получить посредством функции \n",
    "\n",
    "```python\n",
    "asyncio.get_running_loop()\n",
    "```"
   ]
  },
  {
   "cell_type": "markdown",
   "id": "5112fb74-2931-4835-8f1e-20b71310a3d3",
   "metadata": {},
   "source": [
    "### 6.4. Зачем может понадобиться доступ к циклу событий\n",
    "\n",
    "Например:\n",
    "\n",
    "* Для мониторинга хода выполнения задач.\n",
    "* Для выдачи и получения результатов работы задач.\n",
    "* Для запуска одноразовых задач.\n"
   ]
  },
  {
   "cell_type": "markdown",
   "id": "775db8d1-ba47-43f5-b41a-1dd8534391c1",
   "metadata": {},
   "source": [
    "# 7. Создание и запуск asyncio-задач\n",
    "\n",
    "### 7.1. Что такое asyncio-задача\n",
    "\n",
    "***Task*** — это объект, который отвечает за планирование выполнения asyncio-корутин и за их независимый запуск.\n",
    "\n",
    "### 7.2. Как создать задачу\n"
   ]
  },
  {
   "cell_type": "code",
   "execution_count": 3,
   "id": "7d29bb3b-c4bb-40f8-bb11-d37201ace71b",
   "metadata": {},
   "outputs": [
    {
     "name": "stdout",
     "output_type": "stream",
     "text": [
      "hello from async world\n"
     ]
    }
   ],
   "source": [
    "coro = custom_coro()\n",
    "# создание задачи из корутины\n",
    "task = asyncio.create_task(coro)"
   ]
  },
  {
   "cell_type": "markdown",
   "id": "e44930b3-94d4-4889-bcbd-da1e45612fb4",
   "metadata": {},
   "source": [
    "Вот что здесь происходит:\n",
    "\n",
    "1. Корутина оборачивается в экземпляр Task.\n",
    "2. Планируется выполнение задачи в текущем цикле событий.\n",
    "3. Возвращается экземпляр Task"
   ]
  },
  {
   "cell_type": "code",
   "execution_count": 8,
   "id": "e216a975-31ad-46a7-8d2f-41ce4580f09d",
   "metadata": {},
   "outputs": [
    {
     "name": "stdout",
     "output_type": "stream",
     "text": [
      "Hi from corutine\n"
     ]
    }
   ],
   "source": [
    "# получить текущий цикл событий\n",
    "loop = asyncio.get_event_loop()\n",
    "# создать задачу и запланировать её выполнение\n",
    "task = loop.create_task(custom_coro())"
   ]
  },
  {
   "cell_type": "code",
   "execution_count": 11,
   "id": "e11b5e3e-3572-40d7-ad78-68d9d10c595c",
   "metadata": {},
   "outputs": [
    {
     "data": {
      "text/plain": [
       "'RESULT'"
      ]
     },
     "execution_count": 11,
     "metadata": {},
     "output_type": "execute_result"
    }
   ],
   "source": [
    "task.result()"
   ]
  },
  {
   "cell_type": "markdown",
   "id": "3b6376d2-da12-4029-87c3-561cd934fb5f",
   "metadata": {},
   "source": [
    "Жизненный цикл задачи можно представить себе так:\n",
    "\n",
    "1. Создана (Created).\n",
    "2. Запланирована (Scheduled).\n",
    "3. Выполняется (Running).\n",
    "4. Завершена (Done).\n",
    "\n"
   ]
  },
  {
   "cell_type": "code",
   "execution_count": 14,
   "id": "46a82b56-b932-46f6-a0e1-4ba7f05800f0",
   "metadata": {},
   "outputs": [
    {
     "data": {
      "text/plain": [
       "<Task pending name='Task-3' coro=<Kernel.dispatch_queue() running at /Users/ilamasliev/Library/Caches/pypoetry/virtualenvs/algo-test-25np0PMf-py3.11/lib/python3.11/site-packages/ipykernel/kernelbase.py:513> cb=[IOLoop.add_future.<locals>.<lambda>() at /Users/ilamasliev/Library/Caches/pypoetry/virtualenvs/algo-test-25np0PMf-py3.11/lib/python3.11/site-packages/tornado/ioloop.py:685]>"
      ]
     },
     "execution_count": 14,
     "metadata": {},
     "output_type": "execute_result"
    }
   ],
   "source": [
    "asyncio.current_task()"
   ]
  },
  {
   "cell_type": "code",
   "execution_count": 17,
   "id": "ab54c384-cf56-4596-86de-0fd82b85a4eb",
   "metadata": {},
   "outputs": [
    {
     "data": {
      "text/plain": [
       "<Task pending name='Task-10' coro=<main() running at /var/folders/jk/nrp563kj0jx31d5l4bc19j5c0000gn/T/ipykernel_61324/2760077547.py:4>>"
      ]
     },
     "execution_count": 17,
     "metadata": {},
     "output_type": "execute_result"
    },
    {
     "name": "stdout",
     "output_type": "stream",
     "text": [
      "main coroutine started\n",
      "<Task pending name='Task-10' coro=<main() running at /var/folders/jk/nrp563kj0jx31d5l4bc19j5c0000gn/T/ipykernel_61324/2760077547.py:10>>\n"
     ]
    }
   ],
   "source": [
    "# пример получения текущей задачи из главной корутины\n",
    "import asyncio\n",
    "# определение главной корутины\n",
    "async def main():\n",
    "    # вывод сообщения\n",
    "    print('main coroutine started')\n",
    "    # получение текущей задачи\n",
    "    task = asyncio.current_task()\n",
    "    # вывод сведений о ней\n",
    "    print(task)\n",
    "# запуск asyncio-программы\n",
    "asyncio.create_task(main())"
   ]
  },
  {
   "cell_type": "code",
   "execution_count": 18,
   "id": "4f4746f1-46ec-4160-acb5-a0b077634690",
   "metadata": {},
   "outputs": [
    {
     "data": {
      "text/plain": [
       "{<Task pending name='Task-3' coro=<Kernel.dispatch_queue() running at /Users/ilamasliev/Library/Caches/pypoetry/virtualenvs/algo-test-25np0PMf-py3.11/lib/python3.11/site-packages/ipykernel/kernelbase.py:513> cb=[IOLoop.add_future.<locals>.<lambda>() at /Users/ilamasliev/Library/Caches/pypoetry/virtualenvs/algo-test-25np0PMf-py3.11/lib/python3.11/site-packages/tornado/ioloop.py:685]>}"
      ]
     },
     "execution_count": 18,
     "metadata": {},
     "output_type": "execute_result"
    }
   ],
   "source": [
    "asyncio.all_tasks()"
   ]
  },
  {
   "attachments": {
    "aa54b3f9-1215-4f12-a563-a9a56ac9afd3.png": {
     "image/png": "[encoded data removed]"
    }
   },
   "cell_type": "markdown",
   "id": "7aa9a7f6-7ab0-451b-9239-d652871879e1",
   "metadata": {},
   "source": [
    "# 8. Работа с задачами и получение сведений о них\n",
    "\n",
    "### 8.1. Жизненный цикл задачи\n",
    "\n",
    "Жизненный цикл задачи можно представить себе так:\n",
    "\n",
    "1. Создана (Created).\n",
    "2. Запланирована (Scheduled).\n",
    "3. Выполняется (Running).\n",
    "4. Завершена (Done).\n",
    "\n",
    "Обратите внимание на то, что такие пункты нашего списка, как «Приостановлена», \n",
    "«Вернула результат», «Выдала исключение» и «Отменена» — это, сами по себе, не состояния задачи.\n",
    "Это — важные переходные моменты жизненного цикла выполняющейся задачи.\n",
    "\n",
    "![task_lyfecucle.png](attachment:aa54b3f9-1215-4f12-a563-a9a56ac9afd3.png)"
   ]
  },
  {
   "cell_type": "markdown",
   "id": "b7da4fc6-069f-43b5-8f3b-f4a01c22d8dc",
   "metadata": {},
   "source": [
    "### 8.2. Как проверить состояние задачи"
   ]
  },
  {
   "cell_type": "code",
   "execution_count": null,
   "id": "a9302bc2-5cca-4695-93aa-14a92de8b633",
   "metadata": {},
   "outputs": [],
   "source": [
    "#...\n",
    "# проверка на завершение выполнения задачи\n",
    "if task.done():\n",
    "    # ...\n",
    "    pass\n",
    "\n",
    "# ...\n",
    "# проверка на отмену выполнения задачи\n",
    "if task.cancelled():\n",
    "    # ...\n",
    "    pass\n"
   ]
  },
  {
   "cell_type": "markdown",
   "id": "4c6e8078-7a51-4352-8a40-fede249f07f3",
   "metadata": {},
   "source": [
    "### 8.3. Как получить результат выполнения задачи"
   ]
  },
  {
   "cell_type": "code",
   "execution_count": null,
   "id": "100dbc20-b009-4c61-ac4a-d8b809348131",
   "metadata": {},
   "outputs": [],
   "source": [
    "# ...\n",
    "try:\n",
    "    # получение возвращённого значения из обёрнутой корутины\n",
    "    value = task.result()\n",
    "except Exception:\n",
    "    # задача завершилась неудачно, результата нет\n",
    "\n",
    "\n",
    "\n",
    "# интерфейсы состояния задачи\n",
    "task.done() - проверка на завершение выполнения задачи\n",
    "task.cancelled() - проверка на отмену выполнения задачи\n",
    "value = task.result() - получение возвращённого значения из обёрнутой корутины\n",
    "exception = task.exception() - получение исключения, вызванного задачей\n"
   ]
  },
  {
   "cell_type": "markdown",
   "id": "f1cdcedc-51c4-46c9-9eb3-5fa91e6b997e",
   "metadata": {},
   "source": [
    "### 8.6. Как использовать коллбэки при работе с задачами"
   ]
  },
  {
   "cell_type": "code",
   "execution_count": 14,
   "id": "666be784-d50e-4126-b793-4ffa30a5e21e",
   "metadata": {},
   "outputs": [
    {
     "name": "stdout",
     "output_type": "stream",
     "text": [
      "<Task finished name='Task-19' coro=<my_coro() done, defined at /tmp/ipykernel_4568/2809363325.py:3> result='Im alive!'>\n",
      "Im here to callback u!\n"
     ]
    },
    {
     "data": {
      "text/plain": [
       "'Im alive!'"
      ]
     },
     "execution_count": 14,
     "metadata": {},
     "output_type": "execute_result"
    }
   ],
   "source": [
    "import asyncio\n",
    "\n",
    "async def my_coro():\n",
    "    await asyncio.sleep(3)\n",
    "    return 'Im alive!'\n",
    "\n",
    "def my_coro_callback(task):\n",
    "    print(task)\n",
    "    print('Im here to callback u!')\n",
    "\n",
    "\n",
    "my_coro_task = asyncio.create_task(my_coro())\n",
    "my_coro_task.add_done_callback(my_coro_callback)\n",
    "\n",
    "await my_coro_task"
   ]
  },
  {
   "cell_type": "code",
   "execution_count": 15,
   "id": "22bd2bcf-5ebc-44a1-a2e9-3229da4d4779",
   "metadata": {},
   "outputs": [
    {
     "name": "stdout",
     "output_type": "stream",
     "text": [
      "main coroutine started\n",
      "executing the task\n",
      "Task is done\n",
      "main coroutine done\n"
     ]
    }
   ],
   "source": [
    "# FULL example of adding a done callback function to a task\n",
    "import asyncio\n",
    " \n",
    "def callback(task):\n",
    "    print('Task is done')\n",
    " \n",
    "async def task_coroutine():\n",
    "    print('executing the task')\n",
    "    await asyncio.sleep(1)\n",
    " \n",
    "async def main():\n",
    "    print('main coroutine started')\n",
    "    task = asyncio.create_task(task_coroutine())\n",
    "    task.add_done_callback(callback)\n",
    "    await task\n",
    "    print('main coroutine done')\n",
    "\n",
    "# asyncio.run(main())\n",
    "await main()"
   ]
  },
  {
   "cell_type": "code",
   "execution_count": null,
   "id": "affe793a-828b-4138-9104-8502e97db333",
   "metadata": {},
   "outputs": [],
   "source": [
    "# Custom asyncio example\n",
    "import asyncio\n",
    "\n",
    "async def my_coro():\n",
    "    await asyncio.sleep(3)\n",
    "    return 'Im alive!'\n",
    "\n",
    "def my_coro_callback(task):\n",
    "    print(task)\n",
    "    print('Im here to callback u!')\n",
    "    print(task.result())\n",
    "\n",
    "async def main():\n",
    "    task = asyncio.create_task(my_coro())\n",
    "    task.add_done_callback(my_coro_callback)\n",
    "    await task\n",
    "\n",
    "asyncio.run(main())"
   ]
  },
  {
   "cell_type": "markdown",
   "id": "4dfa4b81-01fa-4b58-86cf-173f7a508ed0",
   "metadata": {},
   "source": [
    "# 9. Текущие и выполняющиеся задачи"
   ]
  },
  {
   "cell_type": "code",
   "execution_count": 16,
   "id": "30e8bf6f-5fd3-4636-8474-2ae63a7e8dc8",
   "metadata": {},
   "outputs": [
    {
     "data": {
      "text/plain": [
       "<Task pending name='Task-22' coro=<main() running at /tmp/ipykernel_4568/2850099599.py:10>>"
      ]
     },
     "execution_count": 16,
     "metadata": {},
     "output_type": "execute_result"
    },
    {
     "name": "stdout",
     "output_type": "stream",
     "text": [
      "main coroutine started\n",
      "task 0 is running\n",
      "task 1 is running\n",
      "task 2 is running\n",
      "task 3 is running\n",
      "task 4 is running\n",
      "task 5 is running\n",
      "task 6 is running\n",
      "task 7 is running\n",
      "task 8 is running\n",
      "task 9 is running\n",
      "> Task-3, <coroutine object Kernel.dispatch_queue at 0x7f3458848890>\n",
      "> Task-26, <coroutine object task_coroutine at 0x7f34540ab0d0>\n",
      "> Task-28, <coroutine object task_coroutine at 0x7f343e54c190>\n",
      "> Task-30, <coroutine object task_coroutine at 0x7f343e54c040>\n",
      "> Task-31, <coroutine object task_coroutine at 0x7f343e54c900>\n",
      "> Task-24, <coroutine object task_coroutine at 0x7f34540aa6c0>\n",
      "> Task-22, <coroutine object main at 0x7f343e54c5f0>\n",
      "> Task-27, <coroutine object task_coroutine at 0x7f34540aa420>\n",
      "> Task-23, <coroutine object task_coroutine at 0x7f34588495b0>\n",
      "> Task-32, <coroutine object task_coroutine at 0x7f343e54c890>\n",
      "> Task-29, <coroutine object task_coroutine at 0x7f343e54c820>\n",
      "> Task-25, <coroutine object task_coroutine at 0x7f34540aace0>\n"
     ]
    }
   ],
   "source": [
    "# пример, где запускают множество задач, а после этого получают к ним доступ\n",
    "import asyncio\n",
    "# корутина для задач\n",
    "async def task_coroutine(value):\n",
    "    # вывод сообщения\n",
    "    print(f'task {value} is running')\n",
    "    # краткая блокировка\n",
    "    await asyncio.sleep(1)\n",
    "# определение главной корутины\n",
    "async def main():\n",
    "    # вывод сообщения\n",
    "    print('main coroutine started')\n",
    "    # запуск нескольких задач\n",
    "    started_tasks = [asyncio.create_task(task_coroutine(i)) for i in range(10)]\n",
    "    # выделение времени, необходимого на то, чтобы некоторые из задач запустились\n",
    "    await asyncio.sleep(0.1)\n",
    "    # получение всех задач\n",
    "    tasks = asyncio.all_tasks()\n",
    "    # вывод сведений обо всех задачах\n",
    "    for task in tasks:\n",
    "        print(f'> {task.get_name()}, {task.get_coro()}')\n",
    "    # ждём завершения всех задач\n",
    "    for task in started_tasks:\n",
    "        await task\n",
    "# запуск asyncio-программы\n",
    "asyncio.create_task(main())"
   ]
  },
  {
   "cell_type": "markdown",
   "id": "d5af146d-348e-49e9-b0fb-1d3d491deeaa",
   "metadata": {},
   "source": [
    "# 10. Конкурентный запуск нескольких корутин"
   ]
  },
  {
   "cell_type": "markdown",
   "id": "ed2bafbe-940a-4ed3-ac82-e99bf93e87b2",
   "metadata": {},
   "source": [
    "### 10.1. Функция asyncio.gather()\n",
    "Функция asyncio.gather() позволяет вызывающей стороне группировать объекты, допускающие ожидание.\n",
    "\n",
    "```python\n",
    "awaitable asyncio.gather(*aws, return_exceptions=False)\n",
    "```\n",
    "\n",
    "Применение функции gather() даёт больше возможностей, чем обычное ожидание завершения работы задач.\n",
    "Она позволяет рассматривать группу объектов, допускающих ожидание, как один такой объект.\n",
    "\n",
    "Вот какие возможности это открывает:\n",
    "\n",
    "* Запуск группы объектов, допускающих ожидание, и ожидание завершения их работы с использованием выражения await.\n",
    "* Получение результатов от всех сгруппированных объектов, допускающих ожидание, путём вызова в нужное время метода result().\n",
    "* Выполнение группы объектов, допускающих ожидание, может быть отменено с помощью метода cancel().\n",
    "* Проверка того, завершена ли работа всех сгруппированных объектов, допускающих ожидание, может быть выполнена с помощью метода done().\n",
    "* Выполнить функции-коллбэки можно только тогда, когда все задачи в группе завершат работу.\n",
    "\n",
    "\n",
    "Вспомните о том, что в роли объекта, допускающего ожидание, может выступать корутина, объект Future, или объект Task.\n",
    "\n",
    "```python\n",
    "# однострочный вариант запуска задач и получения результатов\n",
    "results = await asyncio.gather(coro1(), coro2())\n",
    "```"
   ]
  },
  {
   "cell_type": "markdown",
   "id": "d140d7f5-8b2a-45f4-b09f-de5c16508957",
   "metadata": {},
   "source": [
    "### 10.3. Пример использования функции gather() при работе со списком из нескольких корутин\n",
    "\n",
    "При работе с группами корутин распространён такой подход: заранее создают несколько корутин, а позже передают их функции gather()."
   ]
  },
  {
   "cell_type": "code",
   "execution_count": 31,
   "id": "a014bb8f-e9ef-44d9-8cc1-3cec93bba4fd",
   "metadata": {},
   "outputs": [
    {
     "data": {
      "text/plain": [
       "<Task pending name='Task-96' coro=<main() running at /tmp/ipykernel_4568/377264748.py:10>>"
      ]
     },
     "execution_count": 31,
     "metadata": {},
     "output_type": "execute_result"
    },
    {
     "name": "stdout",
     "output_type": "stream",
     "text": [
      "main starting\n",
      "Coro with 0.4 started..\n",
      "Coro with 0.8 started..\n",
      "Coro with 1.2000000000000002 started..\n",
      "Coro with 1.6 started..\n",
      "Coro with 2.0 started..\n",
      "Coro with 2.4000000000000004 started..\n",
      "Coro with 2.8000000000000003 started..\n",
      "Coro with 3.2 started..\n",
      "Coro with 3.6 started..\n",
      "Coro with 0.4 done..\n",
      "Coro with 0.8 done..\n",
      "Coro with 1.2000000000000002 done..\n",
      "Coro with 1.6 done..\n",
      "Coro with 2.0 done..\n",
      "Coro with 2.4000000000000004 done..\n",
      "Coro with 2.8000000000000003 done..\n",
      "Coro with 3.2 done..\n",
      "Coro with 3.6 done..\n",
      "main done, result [0.4, 0.8, 1.2000000000000002, 1.6, 2.0, 2.4000000000000004, 2.8000000000000003, 3.2, 3.6]\n"
     ]
    }
   ],
   "source": [
    "import asyncio\n",
    "\n",
    "async def cl_cs_coro(val):\n",
    "    print(f'Coro with {val} started..')\n",
    "    await asyncio.sleep(val)\n",
    "    print(f'Coro with {val} done..')\n",
    "    return val\n",
    "\n",
    "\n",
    "async def main():\n",
    "    print('main starting')\n",
    "    tasks_to_run = [cl_cs_coro(value*0.4) for value in range(1, 10)]\n",
    "    res = await asyncio.gather(*tasks_to_run)\n",
    "    print(f'main done, result {res}')\n",
    "\n",
    "asyncio.create_task(main())"
   ]
  },
  {
   "cell_type": "markdown",
   "id": "414c0409-c324-4e6c-a3d7-46e7ef151c8c",
   "metadata": {},
   "source": [
    "# 11. Ожидание выполнения некоего условия для коллекции задач\n",
    "\n",
    "Функция asyncio.wait() позволяет организовать ожидание выполнения некоего условия для нескольких asyncio-задач."
   ]
  },
  {
   "cell_type": "code",
   "execution_count": 38,
   "id": "00a0020b-7b34-4250-be45-a4283602c2b2",
   "metadata": {},
   "outputs": [
    {
     "data": {
      "text/plain": [
       "<Task pending name='Task-157' coro=<main() running at /tmp/ipykernel_4568/4169446425.py:10>>"
      ]
     },
     "execution_count": 38,
     "metadata": {},
     "output_type": "execute_result"
    },
    {
     "name": "stdout",
     "output_type": "stream",
     "text": [
      "main starting\n",
      "Coro with 0.4 started..\n",
      "Coro with 0.8 started..\n",
      "Coro with 1.2000000000000002 started..\n",
      "Coro with 1.6 started..\n",
      "Coro with 2.0 started..\n",
      "Coro with 2.4000000000000004 started..\n",
      "Coro with 2.8000000000000003 started..\n",
      "Coro with 3.2 started..\n",
      "Coro with 3.6 started..\n",
      "Coro with 0.4 done..\n",
      "Coro with 0.8 done..\n",
      "Coro with 1.2000000000000002 done..\n",
      "Coro with 1.6 done..\n",
      "Coro with 2.0 done..\n",
      "Coro with 2.4000000000000004 done..\n",
      "Coro with 2.8000000000000003 done..\n",
      "Coro with 3.2 done..\n",
      "Coro with 3.6 done..\n",
      "main done, result {<Task finished name='Task-158' coro=<cl_cs_coro() done, defined at /tmp/ipykernel_4568/4169446425.py:3> result=0.4>, <Task finished name='Task-159' coro=<cl_cs_coro() done, defined at /tmp/ipykernel_4568/4169446425.py:3> result=0.8>, <Task finished name='Task-166' coro=<cl_cs_coro() done, defined at /tmp/ipykernel_4568/4169446425.py:3> result=3.6>, <Task finished name='Task-160' coro=<cl_cs_coro() done, defined at /tmp/ipykernel_4568/4169446425.py:3> result=1.2000000000000002>, <Task finished name='Task-161' coro=<cl_cs_coro() done, defined at /tmp/ipykernel_4568/4169446425.py:3> result=1.6>, <Task finished name='Task-162' coro=<cl_cs_coro() done, defined at /tmp/ipykernel_4568/4169446425.py:3> result=2.0>, <Task finished name='Task-163' coro=<cl_cs_coro() done, defined at /tmp/ipykernel_4568/4169446425.py:3> result=2.4000000000000004>, <Task finished name='Task-164' coro=<cl_cs_coro() done, defined at /tmp/ipykernel_4568/4169446425.py:3> result=2.8000000000000003>, <Task finished name='Task-165' coro=<cl_cs_coro() done, defined at /tmp/ipykernel_4568/4169446425.py:3> result=3.2>}\n"
     ]
    }
   ],
   "source": [
    "import asyncio\n",
    "\n",
    "async def cl_cs_coro(val):\n",
    "    print(f'Coro with {val} started..')\n",
    "    await asyncio.sleep(val)\n",
    "    print(f'Coro with {val} done..')\n",
    "    return val\n",
    "\n",
    "\n",
    "async def main():\n",
    "    print('main starting')\n",
    "    tasks_to_run = [asyncio.create_task(cl_cs_coro(value*0.4)) for value in range(1, 10)]\n",
    "    done, pending = await asyncio.wait(tasks_to_run, return_when=asyncio.ALL_COMPLETED)\n",
    "    # done, pending = await asyncio.wait(tasks_to_run, return_when=asyncio.FIRST_COMPLETED)\n",
    "    # done, pending = await asyncio.wait(tasks_to_run, return_when=asyncio.FIRST_EXCEPTION)\n",
    "    print(f'main done, result {done}')\n",
    "\n",
    "asyncio.create_task(main())"
   ]
  },
  {
   "cell_type": "markdown",
   "id": "568ebe11-b378-4c17-ae22-9c06d8dea809",
   "metadata": {},
   "source": [
    "# 12. Ожидание выполнения корутины с указанием лимита времени\n",
    "\n",
    "Можно организовать ожидание завершения выполнения asyncio-задачи или корутины с указанием лимита времени. Делается это с помощью функции asyncio.wait_for()"
   ]
  },
  {
   "cell_type": "markdown",
   "id": "fa73180b-dce6-4c24-9734-47b48e0d1466",
   "metadata": {},
   "source": [
    "### 12.1 Функция asyncio.wait_for()\n",
    "Функция asyncio.wait_for() позволяет вызывающей стороне ожидать завершения выполнения asyncio-задачи или корутины с указанием тайм-аута.\n",
    "\n",
    "* Если тайм-аут не задан — эта функция будет ожидать завершения задачи.\n",
    "* Если тайм-аут задан и время истекло до завершения выполнения задачи — задача отменяется."
   ]
  },
  {
   "cell_type": "code",
   "execution_count": 46,
   "id": "b1c64cec-1685-406a-a4c8-9242ce406d6e",
   "metadata": {},
   "outputs": [
    {
     "data": {
      "text/plain": [
       "<Task pending name='Task-177' coro=<main() running at /tmp/ipykernel_4568/1410128800.py:17>>"
      ]
     },
     "execution_count": 46,
     "metadata": {},
     "output_type": "execute_result"
    },
    {
     "name": "stdout",
     "output_type": "stream",
     "text": [
      ">task got 1.6518542852524694\n",
      "Gave up waiting, task canceled\n"
     ]
    }
   ],
   "source": [
    "# пример ожидания выполнения корутины с тайм-аутом\n",
    "from random import random\n",
    "import asyncio\n",
    " \n",
    "# корутина, которая будет выполняться в новой задаче\n",
    "async def task_coro(arg):\n",
    "    # генерирование случайного значения в диапазоне между 1 и 2\n",
    "    value = 1 + random()\n",
    "    # вывод сообщения\n",
    "    print(f'>task got {value}')\n",
    "    # блокировка на некоторое время\n",
    "    await asyncio.sleep(value)\n",
    "    # вывод сообщения о завершении работы\n",
    "    print('>task done')\n",
    " \n",
    "# главная корутина\n",
    "async def main():\n",
    "    # создание задачи\n",
    "    task = task_coro(1)\n",
    "    # запуск задачи и ожидание её завершения с тайм-аутом\n",
    "    try:\n",
    "        await asyncio.wait_for(task, timeout=0.2)\n",
    "    except asyncio.TimeoutError:\n",
    "        print('Gave up waiting, task canceled')\n",
    " \n",
    "# запуск asyncio-программы\n",
    "asyncio.create_task(main())"
   ]
  },
  {
   "cell_type": "markdown",
   "id": "57033a4a-099f-4e11-a772-6233e05dfd0d",
   "metadata": {},
   "source": [
    "# 13. Защита задач от отмены их выполнения\n",
    "\n",
    "Выполнение asyncio-задачи можно отменить, вызывав её метод cancel().\n",
    "\n",
    "Задачу можно защитить от отмены, обернув её в вызов функции asyncio.shield()."
   ]
  },
  {
   "cell_type": "markdown",
   "id": "7f661611-e842-49c6-882e-7e5ece5c4d96",
   "metadata": {},
   "source": [
    "### 13.1. Функция asyncio.shield()\n",
    "\n",
    "Функция asyncio.shield() оборачивает объект, допускающий ожидание, в объект Future, который будет принимать запросы на отмену выполнения обёрнутого в него объекта."
   ]
  },
  {
   "cell_type": "code",
   "execution_count": 63,
   "id": "5f24d35d-686d-4fa4-be16-3e68b44d319d",
   "metadata": {},
   "outputs": [
    {
     "data": {
      "text/plain": [
       "<Task pending name='Task-224' coro=<main() running at /tmp/ipykernel_4568/388078025.py:20>>"
      ]
     },
     "execution_count": 63,
     "metadata": {},
     "output_type": "execute_result"
    },
    {
     "name": "stdout",
     "output_type": "stream",
     "text": [
      "cancelled: True\n",
      "shielded was cancelled\n",
      "shielded: <Future cancelled>\n",
      "task: <Task finished name='Task-225' coro=<simple_task() done, defined at /tmp/ipykernel_4568/388078025.py:5> result=1>\n",
      "1\n"
     ]
    }
   ],
   "source": [
    "# пример использования функции asyncio.shield() для защиты задачи от отмены\n",
    "import asyncio\n",
    " \n",
    "# определение простой корутины\n",
    "async def simple_task(number):\n",
    "    # блокировка на некоторое время\n",
    "    await asyncio.sleep(1)\n",
    "    # возврат аргумента\n",
    "    return number\n",
    " \n",
    "# корутина, отменяющая переданную ей задачу через некоторое время\n",
    "async def cancel_task(task):\n",
    "    # блокировка на некоторое время\n",
    "    await asyncio.sleep(0.2)\n",
    "    # отмена задачи\n",
    "    was_cancelled = task.cancel()\n",
    "    print(f'cancelled: {was_cancelled}')\n",
    " \n",
    "# главная корутина\n",
    "async def main():\n",
    "    # создание корутины\n",
    "    coro = simple_task(1)\n",
    "    # создание задачи\n",
    "    task = asyncio.create_task(coro)\n",
    "    # создание защищённой задачи\n",
    "    shielded = asyncio.shield(task)\n",
    "    # создание задачи, отменяющей переданную ей задачу\n",
    "    asyncio.create_task(cancel_task(shielded))\n",
    "    # обработка отмены\n",
    "    try:\n",
    "        # ожидание завершения работы защищённой задачи\n",
    "        result = await shielded\n",
    "        # вывод сведений о полученных результатах\n",
    "        print(f'>got: {result}')\n",
    "    except asyncio.CancelledError:\n",
    "        print('shielded was cancelled')\n",
    "    # ожидание\n",
    "    await asyncio.sleep(1)\n",
    "    # вывод сведений о задачах\n",
    "    print(f'shielded: {shielded}')\n",
    "    print(f'task: {task}')\n",
    "    print(task.result())\n",
    " \n",
    "# запуск программы\n",
    "asyncio.create_task(main())"
   ]
  },
  {
   "cell_type": "markdown",
   "id": "15944c85-f098-4891-be60-73f60f41f39f",
   "metadata": {},
   "source": [
    "# 14. Запуск блокирующих задач в asyncio-программах\n",
    "\n",
    "Если в asyncio-программе запускается блокирующая задача — она останавливает весь цикл событий, не давая выполняться любым другим корутинам.\n",
    "\n",
    "Блокирующие вызовы в asyncio-программах можно выполнять асинхронно, пользуясь функциями \n",
    "\n",
    "```python\n",
    "asyncio.to_thread()\n",
    "\n",
    "loop.run_in_executor()\n",
    "```"
   ]
  },
  {
   "cell_type": "markdown",
   "id": "23d2de34-9a72-4383-b7e4-55f01b53b613",
   "metadata": {},
   "source": [
    "### 14.1. Зачем может понадобиться запуск блокирующих задач в asyncio-программах?\n",
    "\n",
    "\n",
    "Такая необходимость может возникать по множеству причин. Вот некоторые из них:\n",
    "\n",
    "* Для решения задачи, зависящей от производительности CPU, например — выполняющей какие-то вычисления.\n",
    "* Для выполнения блокирующей операции, зависящей от подсистемы ввода/вывода. Это может быть чтение или запись файла.\n",
    "* Для вызова функции из сторонней библиотеки, которая ещё не поддерживает механизмы модуля asyncio."
   ]
  },
  {
   "cell_type": "code",
   "execution_count": 3,
   "id": "25b4a724-838d-4f8b-9959-7b54657d3e72",
   "metadata": {},
   "outputs": [
    {
     "data": {
      "text/plain": [
       "<Task pending name='Task-8' coro=<main() running at /tmp/ipykernel_6527/1097048080.py:14>>"
      ]
     },
     "execution_count": 3,
     "metadata": {},
     "output_type": "execute_result"
    },
    {
     "name": "stdout",
     "output_type": "stream",
     "text": [
      "Main running the blocking task\n",
      "Main doing other things\n",
      "Task starting\n",
      "Task done\n"
     ]
    }
   ],
   "source": [
    "import asyncio\n",
    "import time\n",
    " \n",
    "# блокирующая задача, зависящая от подсистемы ввода/вывода\n",
    "def blocking_task():\n",
    "    # вывод сообщения\n",
    "    print('Task starting')\n",
    "    # блокировка на некоторое время\n",
    "    time.sleep(2)\n",
    "    # вывод сообщения\n",
    "    print('Task done')\n",
    " \n",
    "# главная корутина\n",
    "async def main():\n",
    "    # вывод сообщения\n",
    "    print('Main running the blocking task')\n",
    "    # создание корутины для блокирующей задачи\n",
    "    coro = asyncio.to_thread(blocking_task)\n",
    "    # планирование задачи\n",
    "    task = asyncio.create_task(coro)\n",
    "    # вывод сообщения\n",
    "    print('Main doing other things')\n",
    "    # позволяем запланированной задаче запуститься\n",
    "    await asyncio.sleep(0)\n",
    "    # ожидание завершения задачи\n",
    "    await task\n",
    " \n",
    "# запуск asyncio-программы\n",
    "asyncio.create_task(main())"
   ]
  },
  {
   "cell_type": "code",
   "execution_count": 6,
   "id": "64b8c060-d5cb-4b5b-9603-9f6d2c67e1e6",
   "metadata": {},
   "outputs": [
    {
     "data": {
      "text/plain": [
       "<Task pending name='Task-10' coro=<main() running at /tmp/ipykernel_6527/2878677315.py:12>>"
      ]
     },
     "execution_count": 6,
     "metadata": {},
     "output_type": "execute_result"
    },
    {
     "name": "stdout",
     "output_type": "stream",
     "text": [
      "started main at 06:23:38\n",
      "start blocking_io at 06:23:38\n",
      "blocking_io complete at 06:23:39\n",
      "finished main at 06:23:39\n"
     ]
    }
   ],
   "source": [
    "import asyncio\n",
    "import time\n",
    "\n",
    "\n",
    "def blocking_io():\n",
    "    print(f\"start blocking_io at {time.strftime('%X')}\")\n",
    "    # Note that time.sleep() can be replaced with any blocking\n",
    "    # IO-bound operation, such as file operations.\n",
    "    time.sleep(1)\n",
    "    print(f\"blocking_io complete at {time.strftime('%X')}\")\n",
    "\n",
    "async def main():\n",
    "    print(f\"started main at {time.strftime('%X')}\")\n",
    "\n",
    "    await asyncio.gather(\n",
    "        asyncio.to_thread(blocking_io),\n",
    "        asyncio.sleep(1))\n",
    "\n",
    "    print(f\"finished main at {time.strftime('%X')}\")\n",
    "\n",
    "\n",
    "asyncio.create_task(main())"
   ]
  },
  {
   "cell_type": "markdown",
   "id": "c5034299-29f8-41fa-b3af-c02e12dd6c19",
   "metadata": {},
   "source": [
    "# 15. Асинхронные итераторы"
   ]
  },
  {
   "cell_type": "markdown",
   "id": "9e5e3b5b-624a-4410-9fd1-ba878a692a7c",
   "metadata": {},
   "source": [
    "### 15.1. Что такое асинхронные итераторы\n",
    "\n",
    "Асинхронный итератор — это объект, который реализует методы aiter() и anext()"
   ]
  },
  {
   "cell_type": "code",
   "execution_count": 9,
   "id": "5fb5ac09-bcf8-48c7-904f-34766b18f883",
   "metadata": {},
   "outputs": [
    {
     "data": {
      "text/plain": [
       "<Task pending name='Task-13' coro=<main() running at /tmp/ipykernel_6527/595610437.py:27>>"
      ]
     },
     "execution_count": 9,
     "metadata": {},
     "output_type": "execute_result"
    },
    {
     "name": "stdout",
     "output_type": "stream",
     "text": [
      "1\n",
      "2\n",
      "3\n",
      "4\n",
      "5\n",
      "6\n",
      "7\n",
      "8\n",
      "9\n",
      "10\n"
     ]
    }
   ],
   "source": [
    "# пример работы с асинхронным итератором с применением цикла async for\n",
    "import asyncio\n",
    " \n",
    "# определение асинхронного итератора\n",
    "class AsyncIterator():\n",
    "    # конструктор, объявление некоторых данных, относящихся к состоянию объекта\n",
    "    def __init__(self):\n",
    "        self.counter = 0\n",
    " \n",
    "    # создание экземпляра итератора\n",
    "    def __aiter__(self):\n",
    "        return self\n",
    " \n",
    "    # возврат следующего объекта, допускающего ожидание\n",
    "    async def __anext__(self):\n",
    "        # проверка на то, есть ли ещё невозвращённые элементы\n",
    "        if self.counter >= 10:\n",
    "            raise StopAsyncIteration\n",
    "        # инкрементирование счётчика\n",
    "        self.counter += 1\n",
    "        # имитация работы\n",
    "        await asyncio.sleep(1)\n",
    "        # возврат значения счётчика\n",
    "        return self.counter\n",
    " \n",
    "# главная корутина\n",
    "async def main():\n",
    "    # обход асинхронного итератора с помощью цикла async for\n",
    "    async for item in AsyncIterator():\n",
    "        print(item)\n",
    " \n",
    "# выполнение asyncio-программы\n",
    "asyncio.create_task(main())"
   ]
  },
  {
   "cell_type": "markdown",
   "id": "26a3a610-1cd9-41f8-bdab-718a4f19de09",
   "metadata": {},
   "source": [
    "# 16. Асинхронные генераторы\n",
    "\n",
    "Генератор — это функция, имеющая как минимум одно выражение yield. Выполнение таких функций, как и корутин, можно приостанавливать и возобновлять.\n"
   ]
  },
  {
   "cell_type": "code",
   "execution_count": 15,
   "id": "98544c28-287f-49ef-9a79-03d2cd31a63e",
   "metadata": {},
   "outputs": [
    {
     "name": "stdout",
     "output_type": "stream",
     "text": [
      "0\n",
      "1\n"
     ]
    }
   ],
   "source": [
    "# определение классического генератора\n",
    "def generator():\n",
    "    for i in range(10):\n",
    "        yield i\n",
    "\n",
    "gen = generator()\n",
    "\n",
    "print(next(gen))\n",
    "print(next(gen))"
   ]
  },
  {
   "cell_type": "code",
   "execution_count": 28,
   "id": "677fdd83-a91c-4250-89fc-67e32b8cbe76",
   "metadata": {},
   "outputs": [
    {
     "name": "stdout",
     "output_type": "stream",
     "text": [
      "0\n",
      "1\n"
     ]
    }
   ],
   "source": [
    "# определение асинхронного генератора\n",
    "async def async_generator():\n",
    "    for i in range(10):\n",
    "        yield i\n",
    "\n",
    "a_gen = async_generator()\n",
    "\n",
    "print(await anext(a_gen))\n",
    "print(await anext(a_gen))"
   ]
  },
  {
   "cell_type": "code",
   "execution_count": 31,
   "id": "094b7441-0366-444c-96f8-957bac06fa61",
   "metadata": {},
   "outputs": [
    {
     "name": "stdout",
     "output_type": "stream",
     "text": [
      "[0, 1, 2, 3, 4, 5, 6, 7, 8, 9]\n"
     ]
    }
   ],
   "source": [
    "# определение асинхронного генератора, в котором используется выражение await\n",
    "async def async_generator():\n",
    "    for i in range(10):\n",
    "        # приостановка работы\n",
    "        await asyncio.sleep(1)\n",
    "        # выдача значения вызывающей стороне\n",
    "        yield i\n",
    "\n",
    "a_gen = async_generator()\n",
    "\n",
    "results = [item async for item in async_generator()]\n",
    "print(results)"
   ]
  },
  {
   "cell_type": "code",
   "execution_count": 32,
   "id": "5cea887a-1965-49b4-81b8-29809bbcdb6b",
   "metadata": {},
   "outputs": [
    {
     "data": {
      "text/plain": [
       "<Task pending name='Task-23' coro=<main() running at /tmp/ipykernel_6527/2611022575.py:14>>"
      ]
     },
     "execution_count": 32,
     "metadata": {},
     "output_type": "execute_result"
    },
    {
     "name": "stdout",
     "output_type": "stream",
     "text": [
      "0\n",
      "1\n",
      "2\n",
      "3\n",
      "4\n",
      "5\n",
      "6\n",
      "7\n",
      "8\n",
      "9\n"
     ]
    }
   ],
   "source": [
    "# пример использования асинхронного генератора в цикле async for\n",
    "import asyncio\n",
    " \n",
    "# определение асинхронного генератора\n",
    "async def async_generator():\n",
    "    # обычный цикл\n",
    "    for i in range(10):\n",
    "        # блокировка, имитирующая выполнение работы\n",
    "        await asyncio.sleep(1)\n",
    "        # выдача результата\n",
    "        yield i\n",
    " \n",
    "# главная корутина\n",
    "async def main():\n",
    "    # обход асинхронного генератора с помощью цикла async for\n",
    "    async for item in async_generator():\n",
    "        print(item)\n",
    " \n",
    "# выполнение asyncio-программы\n",
    "asyncio.create_task(main())"
   ]
  },
  {
   "cell_type": "markdown",
   "id": "ace240c4-674c-48c6-8cea-2b74f85db25d",
   "metadata": {},
   "source": [
    "# 17. Асинхронные менеджеры контекста\n",
    "\n",
    "В asyncio-программах можно создавать и использовать асинхронные менеджеры контекста, определяя объекты, реализующие методы __aenter__() и __aexit__() в виде корутин.\n",
    "\n",
    "Метод __enter__() определяет то, что происходит в начале блока. Например — это может быть открытие или подготовка к работе ресурса наподобие файла, сокета или пула потоков.\n",
    "\n",
    "Метод __exit__() определяет то, что происходит при выходе из блока. Например — закрытие подготовленного ресурса."
   ]
  },
  {
   "cell_type": "code",
   "execution_count": null,
   "id": "9ad8073a-0c7f-4a0f-bd2f-7f162d67b956",
   "metadata": {},
   "outputs": [],
   "source": [
    "# создание асинхронного менеджера контекста, или вход в него - эквивалент async with\n",
    "manager = await AsyncContextManager()\n",
    "try:\n",
    "    # ...\n",
    "finally:\n",
    "    # закрытие менеджера контекста, или выход из него\n",
    "    await manager.close()"
   ]
  },
  {
   "cell_type": "code",
   "execution_count": 36,
   "id": "df7f09a6-0d26-4319-a1df-cd553e4f8622",
   "metadata": {},
   "outputs": [],
   "source": [
    "# Функция asynccontextmanager() модуля contextlib является декоратором, который можно использовать \n",
    "# для определения фабричной функции для асинхронного управления \n",
    "# с помощью оператора асинхронного контекста async with без необходимости \n",
    "# создавать класс или отдельные методы __aenter__() и __aexit__().\n",
    "\n",
    "\n",
    "from contextlib import asynccontextmanager\n",
    "\n",
    "@asynccontextmanager\n",
    "async def get_connection():\n",
    "    conn = await acquire_db_connection()\n",
    "    try:\n",
    "        yield conn\n",
    "    finally:\n",
    "        await release_db_connection(conn)\n",
    "\n",
    "async def get_all_users():\n",
    "    async with get_connection() as conn:\n",
    "        return conn.query('SELECT ...')"
   ]
  },
  {
   "cell_type": "code",
   "execution_count": 41,
   "id": "9e8c6889-181d-4f62-95a2-3dc9310bb895",
   "metadata": {},
   "outputs": [
    {
     "data": {
      "text/plain": [
       "<Task pending name='Task-25' coro=<custom_coroutine() running at /tmp/ipykernel_6527/3892403169.py:21>>"
      ]
     },
     "execution_count": 41,
     "metadata": {},
     "output_type": "execute_result"
    },
    {
     "name": "stdout",
     "output_type": "stream",
     "text": [
      ">entering the context manager\n",
      "within the manager\n",
      ">exiting the context manager\n"
     ]
    }
   ],
   "source": [
    "# пример работы с асинхронным менеджером контекста и с async with\n",
    "import asyncio\n",
    " \n",
    "# определение асинхронного менеджера контекста\n",
    "class AsyncContextManager:\n",
    "    # вход в асинхронный менеджер контекста\n",
    "    async def __aenter__(self):\n",
    "        # вывод сообщения\n",
    "        print('>entering the context manager')\n",
    "        # блокировка на некоторое время\n",
    "        await asyncio.sleep(0.5)\n",
    " \n",
    "    # выход из асинхронного менеджера контекста\n",
    "    async def __aexit__(self, exc_type, exc, tb):\n",
    "        # вывод сообщения\n",
    "        print('>exiting the context manager')\n",
    "        # блокировка на некоторое время\n",
    "        await asyncio.sleep(0.5)\n",
    " \n",
    "# определение простой корутины\n",
    "async def custom_coroutine():\n",
    "    # создание и использование асинхронного менеджера контекста\n",
    "    async with AsyncContextManager() as manager:\n",
    "        # вывод результирующего сообщения\n",
    "        print(f'within the manager')\n",
    "\n",
    "# запуск asyncio-программы\n",
    "asyncio.create_task(custom_coroutine())"
   ]
  },
  {
   "cell_type": "markdown",
   "id": "ac2437cf-342e-4b6e-9c00-3a332fd96fab",
   "metadata": {},
   "source": [
    "# 18. Асинхронные comprehension-выражения"
   ]
  },
  {
   "cell_type": "code",
   "execution_count": null,
   "id": "5db80419-9e5d-4db0-9e34-f68918d9ece3",
   "metadata": {},
   "outputs": [],
   "source": [
    "result = [a async for a in agenerator]"
   ]
  },
  {
   "cell_type": "markdown",
   "id": "f9585e2d-9f69-4437-bcf7-a3fae17b0b9a",
   "metadata": {},
   "source": [
    "# 19. Выполнение команд в неблокирующих подпроцессах\n",
    "\n",
    "Из программ, основанных на asyncio, можно выполнять внешние команды.\n",
    "Такие команды запускаются в подпроцессах, что позволяет организовать работу, используя неблокирующие операции ввода/вывода."
   ]
  },
  {
   "cell_type": "markdown",
   "id": "1dd3b6e4-a606-47ba-a8d6-eae025455017",
   "metadata": {},
   "source": [
    "### 19.1. Что собой представляет класс asyncio.subprocess.Process\n",
    "Класс asyncio.subprocess.Process даёт нам представление подпроцесса, выполняемого asyncio.\n",
    "\n",
    "\n",
    "Есть два инструмента для запуска внешней команды в виде подпроцесса и получения экземпляра класса Process:\n",
    "\n",
    "* Функция `asyncio.create_subprocess_exec()` для прямого запуска команд.\n",
    "* Функция `asyncio.create_subprocess_shell()` для запуска команд с помощью командной оболочки."
   ]
  },
  {
   "cell_type": "code",
   "execution_count": 42,
   "id": "181ebf19-c351-4ae8-9f09-4a87d52f0107",
   "metadata": {},
   "outputs": [
    {
     "name": "stdout",
     "output_type": "stream",
     "text": [
      "<Process 19646>\n",
      "Algo.ipynb\n",
      "AsyncIO.ipynb\n",
      "design_patterns.ipynb\n",
      "full_preparation.ipynb\n",
      "parsers\n",
      "pics\n",
      "poetry.lock\n",
      "pyproject.toml\n",
      "SOLID.ipynb\n",
      "Sorting.ipynb\n",
      "Yield_examples.ipynb\n"
     ]
    }
   ],
   "source": [
    "process = await asyncio.create_subprocess_exec('ls')"
   ]
  },
  {
   "cell_type": "code",
   "execution_count": null,
   "id": "7f8f7fc7-d26c-406f-a389-6233c76f1fb6",
   "metadata": {},
   "outputs": [],
   "source": [
    "process_shell = await asyncio.create_subprocess_shell('ls -la')"
   ]
  },
  {
   "cell_type": "code",
   "execution_count": 44,
   "id": "b5d0a7b2-eb01-4085-9468-04c7906a55fb",
   "metadata": {},
   "outputs": [
    {
     "name": "stdout",
     "output_type": "stream",
     "text": [
      "total 332\n",
      "-rw-rw-r-- 1 imasliev imasliev   9619 июн  1 05:00 Algo.ipynb\n",
      "-rw-rw-r-- 1 imasliev imasliev 118384 июн  2 07:51 AsyncIO.ipynb\n",
      "-rw-rw-r-- 1 imasliev imasliev  30926 мая 29 21:24 design_patterns.ipynb\n",
      "-rw-rw-r-- 1 imasliev imasliev  14596 мая 28 12:30 full_preparation.ipynb\n",
      "drwxrwxr-x 2 imasliev imasliev   4096 мая 28 12:30 parsers\n",
      "drwxrwxr-x 2 imasliev imasliev   4096 июн  1 05:09 pics\n",
      "-rw-rw-r-- 1 imasliev imasliev 122314 мая 28 12:30 poetry.lock\n",
      "-rw-rw-r-- 1 imasliev imasliev    338 мая 28 12:30 pyproject.toml\n",
      "-rw-rw-r-- 1 imasliev imasliev  12218 мая 28 12:30 SOLID.ipynb\n",
      "-rw-rw-r-- 1 imasliev imasliev   7552 мая 28 12:30 Sorting.ipynb\n",
      "-rw-rw-r-- 1 imasliev imasliev   2956 мая 28 12:30 Yield_examples.ipynb\n"
     ]
    }
   ],
   "source": [
    "process = await asyncio.create_subprocess_exec('ls', '-l')"
   ]
  },
  {
   "cell_type": "code",
   "execution_count": null,
   "id": "5a27b891-2b1d-4423-ad4d-bac54c9d3d29",
   "metadata": {},
   "outputs": [],
   "source": [
    "process = await asyncio.create_subprocess_exec('ls', '-l')\n",
    "await process.wait()"
   ]
  },
  {
   "cell_type": "code",
   "execution_count": 46,
   "id": "da25d021-45eb-4558-adce-bea91996ee15",
   "metadata": {},
   "outputs": [
    {
     "data": {
      "text/plain": [
       "<Task pending name='Task-34' coro=<main() running at /tmp/ipykernel_6527/1962180326.py:5>>"
      ]
     },
     "execution_count": 46,
     "metadata": {},
     "output_type": "execute_result"
    },
    {
     "name": "stdout",
     "output_type": "stream",
     "text": [
      "subprocess: <Process 21242>Hello World\n",
      "\n"
     ]
    }
   ],
   "source": [
    "# пример выполнения команды в подпроцессе в asyncio-программе\n",
    "import asyncio\n",
    " \n",
    "# главная корутина\n",
    "async def main():\n",
    "    # начало выполнения команды в подпроцессе\n",
    "    process = await asyncio.create_subprocess_exec('echo', 'Hello World')\n",
    "    # вывод сведений о подпроцессе\n",
    "    print(f'subprocess: {process}')\n",
    " \n",
    "# точка входа в программу\n",
    "asyncio.create_task(main())"
   ]
  },
  {
   "cell_type": "markdown",
   "id": "4f554534-143c-468b-9720-8580235fc329",
   "metadata": {},
   "source": [
    "# 20. Неблокирующие потоки\n",
    "\n",
    "Весьма полезной особенностью asyncio можно назвать возможность использования неблокирующих потоков."
   ]
  },
  {
   "cell_type": "markdown",
   "id": "143caa71-1f6a-4c1d-979f-19c83a86cb12",
   "metadata": {},
   "source": [
    "### 20.1. Asyncio-потоки\n",
    "\n",
    "В модуле asyncio имеются средства для работы с неблокирующими сокетами ввода/вывода. Эти средства представлены потоками.\n",
    "\n"
   ]
  },
  {
   "cell_type": "code",
   "execution_count": null,
   "id": "354122d4-38ff-4645-a39c-133b2d6bb5ab",
   "metadata": {},
   "outputs": [],
   "source": [
    "import asyncio\n",
    "from urllib.parse import urlsplit\n",
    "\n",
    "# получение кода HTTP/S состояния страницы\n",
    "async def get_status(url):\n",
    "    # разбиение URL на компоненты\n",
    "    url_parsed = urlsplit(url)\n",
    "    # открытие соединения\n",
    "    if url_parsed.scheme == 'https':\n",
    "        reader, writer = await asyncio.open_connection(url_parsed.hostname, 443, ssl=True)\n",
    "    else:\n",
    "        reader, writer = await asyncio.open_connection(url_parsed.hostname, 80)\n",
    "    # отправка GET-запроса\n",
    "    query = f'GET {url_parsed.path} HTTP/1.1\\r\\nHost: {url_parsed.hostname}\\r\\n\\r\\n'\n",
    "    # запись запроса в сокет\n",
    "    writer.write(query.encode())\n",
    "    # ожидание завершения записи байтов в сокет\n",
    "    await writer.drain()\n",
    "    # чтение одной строки ответа\n",
    "    response = await reader.readline()\n",
    "    # закрытие соединения\n",
    "    writer.close()\n",
    "    # декодирование ответа и его очистка от ненужных пробельных символов\n",
    "    status = response.decode().strip()\n",
    "    # возврат результата\n",
    "    return status\n"
   ]
  },
  {
   "cell_type": "code",
   "execution_count": null,
   "id": "9815bfdd-0a9d-47fe-949a-19813e2ef086",
   "metadata": {},
   "outputs": [],
   "source": [
    "# главная корутина\n",
    "async def main():\n",
    "    # список из 10 самых посещаемых сайтов, которые нужно проверить\n",
    "    sites = ['https://www.google.com/',\n",
    "        'https://www.youtube.com/',\n",
    "        # 'https://www.facebook.com/',\n",
    "        # 'https://twitter.com/',\n",
    "        # 'https://www.instagram.com/',\n",
    "        'https://www.baidu.com/',\n",
    "        'https://www.wikipedia.org/',\n",
    "        'https://yandex.ru/',\n",
    "        'https://yahoo.com/',\n",
    "        # 'https://www.whatsapp.com/'\n",
    "        ]\n",
    "    # проверка кодов HTTP-состояния для всех сайтов\n",
    "    # создание всех корутин для выполнения запросов\n",
    "    coros = [get_status(url) for url in sites]\n",
    "    # выполнение всех корутин и ожидание завершения их работы\n",
    "    results = await asyncio.gather(*coros)\n",
    "    # обработка всех результатов\n",
    "    for url, status in zip(sites, results):\n",
    "        # вывод результатов\n",
    "        print(f'{url:30}:\\t{status}')\n",
    "\n",
    "asyncio.create_task(main())"
   ]
  },
  {
   "cell_type": "markdown",
   "id": "1e2f23b1-69c8-48be-b7d5-7a004aebaa83",
   "metadata": {},
   "source": [
    "# 22. Распространённые ошибки, которые допускают разработчики при работе с asyncio\n",
    "\n",
    "1. Попытка выполнения корутин путём их вызова.\n",
    "2. Корутине не позволяют выполниться в цикле событий.\n",
    "3. Использование низкоуровневого API модуля asyncio.\n",
    "4. Слишком ранний выход из главной корутины.\n",
    "5. Ложное предположение о том, что состояние гонок или взаимная блокировка невозможны.\n",
    "\n"
   ]
  },
  {
   "cell_type": "markdown",
   "id": "257972a4-efda-41db-9722-3eac06977d44",
   "metadata": {},
   "source": [
    "# 23. FAQ\n",
    "-> https://habr.com/ru/companies/wunderfund/articles/716740/"
   ]
  },
  {
   "cell_type": "code",
   "execution_count": null,
   "id": "cd2350df-d38b-491b-8643-6b8d81c29e33",
   "metadata": {},
   "outputs": [],
   "source": []
  }
 ],
 "metadata": {
  "kernelspec": {
   "display_name": "Python 3 (ipykernel)",
   "language": "python",
   "name": "python3"
  },
  "language_info": {
   "codemirror_mode": {
    "name": "ipython",
    "version": 3
   },
   "file_extension": ".py",
   "mimetype": "text/x-python",
   "name": "python",
   "nbconvert_exporter": "python",
   "pygments_lexer": "ipython3",
   "version": "3.10.6"
  }
 },
 "nbformat": 4,
 "nbformat_minor": 5
}
