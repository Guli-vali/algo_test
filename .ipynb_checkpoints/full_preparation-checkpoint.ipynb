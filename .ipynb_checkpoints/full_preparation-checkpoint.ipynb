{
 "cells": [
  {
   "cell_type": "markdown",
   "id": "b0be89b5-6d4a-47a3-9465-7f882006cd72",
   "metadata": {},
   "source": [
    "# 1. Массивы и строки"
   ]
  },
  {
   "cell_type": "markdown",
   "id": "db2c9dfe-808f-4e2a-ba0d-4c9b5f737392",
   "metadata": {},
   "source": [
    "## Определения:\n",
    "\n",
    "**Хеш-табли́ца** — это структура данных, реализующая интерфейс ассоциативного массива, а именно, она позволяет хранить пары (ключ, значение) и выполнять три операции: операцию добавления новой пары, операцию удаления и операцию поиска пары по ключу.\n",
    "\n",
    "**Массив** — структура данных, хранящая набор значений (элементов массива), идентифицируемых по индексу или набору индексов, принимающих целые (или приводимые к целым) значения из некоторого заданного непрерывного диапазона. \n"
   ]
  },
  {
   "cell_type": "markdown",
   "id": "02ad6b6e-2f34-4e39-bbc1-260715413e3d",
   "metadata": {},
   "source": [
    "## Задания:"
   ]
  },
  {
   "cell_type": "markdown",
   "id": "d346abd8-9be3-43f6-b5a7-e64cb04a4111",
   "metadata": {},
   "source": [
    "**1.1. Реализуйте алгоритм, определяющий, все ли символы в строке встречаются один раз. При выполнении этого задания нельзя использовать дополнительные структуры данных.**"
   ]
  },
  {
   "cell_type": "code",
   "execution_count": 7,
   "id": "ae62ab9f-7c7d-4b63-a4ee-d3a712db8242",
   "metadata": {},
   "outputs": [
    {
     "name": "stdout",
     "output_type": "stream",
     "text": [
      "True\n",
      "------------------\n",
      "False\n"
     ]
    }
   ],
   "source": [
    "_input1 = \"abcd\"\n",
    "_input2 = \"abbcdd\"\n",
    "\n",
    "def string_checker(input_str):\n",
    "    for ch in input_str:\n",
    "        hit = 0\n",
    "        for sec_ch in input_str:\n",
    "            if ch == sec_ch:\n",
    "                hit += 1\n",
    "                if hit > 1:\n",
    "                    return False\n",
    "    return True\n",
    "\n",
    "print(string_checker(_input1))\n",
    "print('------------------')\n",
    "print(string_checker(_input2))\n",
    "\n",
    "    "
   ]
  },
  {
   "cell_type": "markdown",
   "id": "bddb2446-fc16-47a9-a441-69dbaf90aab8",
   "metadata": {},
   "source": [
    "**1.3. Для двух строк напишите метод, определяющий, является ли одна строка перестановкой другой.**"
   ]
  },
  {
   "cell_type": "code",
   "execution_count": 21,
   "id": "8c789511-cece-47fb-a12b-99fb3f34238d",
   "metadata": {},
   "outputs": [
    {
     "name": "stdout",
     "output_type": "stream",
     "text": [
      "True\n",
      "--------------------------\n",
      "False\n"
     ]
    }
   ],
   "source": [
    "_input1_f = \"abcd\"\n",
    "_input1_s = \"cabd\"\n",
    "_input_th = \"aaaa\"\n",
    "\n",
    "def check_str(_str1, _str2):\n",
    "    return sorted(_str1) == sorted(_str2)\n",
    "\n",
    "\n",
    "print(check_str(_input1_f, _input1_s))\n",
    "print('--------------------------')\n",
    "print(check_str(_input1_f, _input_th))"
   ]
  },
  {
   "cell_type": "code",
   "execution_count": 22,
   "id": "3bfacd51-9ac7-487d-94dd-eba7b2107121",
   "metadata": {},
   "outputs": [
    {
     "name": "stdout",
     "output_type": "stream",
     "text": [
      "True\n",
      "--------------------------\n",
      "False\n"
     ]
    }
   ],
   "source": [
    "def check_str_alt(_str1, _str2):\n",
    "    arr1 = list(_str1)\n",
    "    arr2 = []\n",
    "    for el in _str1:\n",
    "        for _el in _str2:\n",
    "            if el == _el:\n",
    "                arr2.append(_el)\n",
    "\n",
    "    return arr1 == arr2\n",
    "\n",
    "print(check_str_alt(_input1_f, _input1_s))\n",
    "print('--------------------------')\n",
    "print(check_str_alt(_input1_f, _input_th))"
   ]
  },
  {
   "cell_type": "markdown",
   "id": "8039a301-4f57-4a66-85bc-2e66b0e6897d",
   "metadata": {},
   "source": [
    "**1.5. Реализуйте метод, осуществляющий сжатие строки, на основе счетчика повторяющихся символов.**"
   ]
  },
  {
   "cell_type": "code",
   "execution_count": 39,
   "id": "de7c86f2-984c-4322-97b6-2f6c4842355d",
   "metadata": {},
   "outputs": [
    {
     "name": "stdout",
     "output_type": "stream",
     "text": [
      "A4B3C2X1Y1Z1D4E3F3A6B28\n"
     ]
    }
   ],
   "source": [
    "_input1 = 'AAAABBBCCXYZDDDDEEEFFFAAAAAABBBBBBBBBBBBBBBBBBBBBBBBBBBB'\n",
    "_output1 = 'A4B3C2XYZD4E3F3A6B28'\n",
    "\n",
    "def transform_str(_input_str):\n",
    "    res = []\n",
    "    count = 0\n",
    "    prev = _input_str[0]\n",
    "\n",
    "    for ch in (list(_input_str) + [None]):\n",
    "        if prev != ch:\n",
    "            prep_str = f'{prev}{count}'\n",
    "            res.append(prep_str)\n",
    "            prev = ch\n",
    "            count = 1\n",
    "        else:\n",
    "            count += 1\n",
    "    return ''.join(res)\n",
    "            \n",
    "\n",
    "print(transform_str(_input1))\n",
    "            \n",
    "            "
   ]
  },
  {
   "cell_type": "code",
   "execution_count": null,
   "id": "28258616-35cd-4faa-9c19-a04ea8bfd102",
   "metadata": {},
   "outputs": [],
   "source": []
  }
 ],
 "metadata": {
  "kernelspec": {
   "display_name": "Python 3 (ipykernel)",
   "language": "python",
   "name": "python3"
  },
  "language_info": {
   "codemirror_mode": {
    "name": "ipython",
    "version": 3
   },
   "file_extension": ".py",
   "mimetype": "text/x-python",
   "name": "python",
   "nbconvert_exporter": "python",
   "pygments_lexer": "ipython3",
   "version": "3.11.2"
  }
 },
 "nbformat": 4,
 "nbformat_minor": 5
}
