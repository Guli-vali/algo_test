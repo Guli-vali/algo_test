{
 "cells": [
  {
   "cell_type": "markdown",
   "id": "31f537fd-1bfd-4a91-a7a2-4fc33b254bed",
   "metadata": {},
   "source": [
    "# SOLID\n",
    "\n",
    "1. S – Принцип единственной ответственности (Single Responsibility Principle),\n",
    "\n",
    "2. O – Принцип открытости/закрытости (Open‐Closed Principle),\n",
    "\n",
    "3. L – Принцип подстановки Барбары Лисков (Liskov Substitution Principle),\n",
    "\n",
    "4. I – Принцип разделения интерфейсов (Interface Segregation Principle),\n",
    "\n",
    "5. D – Принцип инверсии зависимостей (Dependency Inversion Principle).\n"
   ]
  },
  {
   "cell_type": "markdown",
   "id": "8352554b-15a0-4d4e-84cf-7db591f589ed",
   "metadata": {},
   "source": [
    "# 1. Принцип единственной ответственности\n",
    "\n",
    "### «У класса должна быть лишь одна причина для изменения». "
   ]
  },
  {
   "cell_type": "code",
   "execution_count": 2,
   "id": "7ff5e7c5-8963-4027-9911-9d7f5c29492d",
   "metadata": {},
   "outputs": [
    {
     "name": "stdout",
     "output_type": "stream",
     "text": [
      "jack: 56789\n",
      "\n"
     ]
    }
   ],
   "source": [
    "class PhoneBook:\n",
    "    def __init__(self):\n",
    "        self.contacts = {}\n",
    "\n",
    "    def add_contact(self, name, number):\n",
    "        self.contacts[name] = number\n",
    "\n",
    "    def delete_contact(self, name):\n",
    "        self.contacts.pop(name)\n",
    "\n",
    "    def update_contact(self, name, number):\n",
    "        self.contacts[name] = number\n",
    "\n",
    "    def search_contact(self, name):\n",
    "        return self.contacts[name]\n",
    "\n",
    "    # NEXT LINE BREAKING 1.S - SINGLE RESPONSIBILITY PRINCIPLE\n",
    "    def save_to_csv(self, file_name):\n",
    "        # code to save to csv\n",
    "        pass\n",
    "\n",
    "    # NEXT LINE BREAKING 1.S - SINGLE RESPONSIBILITY PRINCIPLE\n",
    "    def save_to_db(self, db_info):\n",
    "        # code to save to db\n",
    "        pass\n",
    "\n",
    "    def __str__(self):\n",
    "        contact = ''\n",
    "        for name, number in self.contacts.items():\n",
    "            contact += f'{name}: {number}\\n'\n",
    "        return contact\n",
    "\n",
    "\n",
    "contacts = PhoneBook()\n",
    "contacts.add_contact('john', 123457)\n",
    "contacts.add_contact('jack', 56789)\n",
    "contacts.delete_contact('john')\n",
    "print(contacts)"
   ]
  },
  {
   "cell_type": "markdown",
   "id": "35ec8b29-d827-4fff-872c-917f4cffd1b0",
   "metadata": {},
   "source": [
    "# 2. Принцип открытости/закрытости\n",
    "\n",
    "### «Наиболее важный принцип открытости/закрытости гласит «Сущности программы (классы, модули, функции и т.п.) должны быть открыты для расширения, но закрыты для изменений»"
   ]
  },
  {
   "cell_type": "code",
   "execution_count": 3,
   "id": "6b172c67-bc32-458f-825a-25b10bc580e5",
   "metadata": {},
   "outputs": [
    {
     "name": "stdout",
     "output_type": "stream",
     "text": [
      "95.0\n",
      "180.0\n",
      "255.0\n"
     ]
    }
   ],
   "source": [
    "from abc import abstractmethod\n",
    "\n",
    "\n",
    "class CalculateDiscount:\n",
    "    @abstractmethod\n",
    "    def apply_discount(self):\n",
    "        pass\n",
    "\n",
    "\n",
    "class CalculateDiscountShirt(CalculateDiscount):\n",
    "    def __init__(self, price):\n",
    "        self.price = price\n",
    "\n",
    "    def apply_discount(self):\n",
    "        return self.price - (self.price * 0.05)\n",
    "\n",
    "\n",
    "class CalculateDiscountSkirt(CalculateDiscount):\n",
    "    def __init__(self, price):\n",
    "        self.price = price\n",
    "\n",
    "    def apply_discount(self):\n",
    "        return self.price - (self.price * 0.10)\n",
    "\n",
    "\n",
    "class CalculateDiscountAbaya(CalculateDiscount):\n",
    "    def __init__(self, price):\n",
    "        self.price = price\n",
    "\n",
    "    def apply_discount(self):\n",
    "        return self.price - (self.price * 0.15)\n",
    "\n",
    "\n",
    "discounted_shirt = CalculateDiscountShirt(100)\n",
    "print(discounted_shirt.apply_discount())\n",
    "\n",
    "discounted_skirt = CalculateDiscountSkirt(200)\n",
    "print(discounted_skirt.apply_discount())\n",
    "\n",
    "discounted_abaya = CalculateDiscountAbaya(300)\n",
    "print(discounted_abaya.apply_discount())"
   ]
  },
  {
   "cell_type": "code",
   "execution_count": null,
   "id": "f6837ce3-8aad-4298-b331-c2ae5a58ff66",
   "metadata": {},
   "outputs": [],
   "source": []
  }
 ],
 "metadata": {
  "kernelspec": {
   "display_name": "Python 3 (ipykernel)",
   "language": "python",
   "name": "python3"
  },
  "language_info": {
   "codemirror_mode": {
    "name": "ipython",
    "version": 3
   },
   "file_extension": ".py",
   "mimetype": "text/x-python",
   "name": "python",
   "nbconvert_exporter": "python",
   "pygments_lexer": "ipython3",
   "version": "3.8.10"
  }
 },
 "nbformat": 4,
 "nbformat_minor": 5
}
