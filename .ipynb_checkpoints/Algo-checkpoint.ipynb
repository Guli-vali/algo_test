{
 "cells": [
  {
   "cell_type": "code",
   "execution_count": 2,
   "id": "fced0020",
   "metadata": {},
   "outputs": [],
   "source": [
    "# 1 Натуральные числа\n",
    "# Напишите функцию, которая получает список целых чисел и возвращает список всех его нечетных членов.\n",
    "# Пример:\n",
    "# Входящее значение:\n",
    "# [4, 2, 1, 6, 9, 7]\n",
    "# Ответ: \n",
    "# [1, 9, 7]"
   ]
  },
  {
   "cell_type": "code",
   "execution_count": 7,
   "id": "150d52eb",
   "metadata": {},
   "outputs": [],
   "source": [
    "def odds_transform(inp_arr):\n",
    "    res = []\n",
    "    for i in inp_arr:\n",
    "        if i % 2:\n",
    "            res.append(i)\n",
    "    return res"
   ]
  },
  {
   "cell_type": "code",
   "execution_count": 8,
   "id": "3da91628",
   "metadata": {},
   "outputs": [
    {
     "data": {
      "text/plain": [
       "[1, 9, 7]"
      ]
     },
     "execution_count": 8,
     "metadata": {},
     "output_type": "execute_result"
    }
   ],
   "source": [
    "odds_transform([4, 2, 1, 6, 9, 7])"
   ]
  },
  {
   "cell_type": "code",
   "execution_count": 9,
   "id": "c92c054b",
   "metadata": {},
   "outputs": [],
   "source": [
    "# 2. Биграммы\n",
    "# Напишите функцию, которая получает строку и возвращает список всех её биграмм (последовательность из двух элементов).\n",
    "\n",
    "# Пример:\n",
    "# Входящее значение:\n",
    "# Have free hours and love children? Drive kids to school, soccer practice and other activities.\n",
    "# Ответ: \n",
    "# [('have', 'free'), ('free', 'hours'), ('hours', 'and'), ('and', 'love'), ('love', 'children?'), ('children?', 'drive'), ('drive', 'kids'), ('kids', 'to'), ('to', 'school,'), ('school,', 'soccer'), ('soccer', 'practice'), ('practice', 'and'), ('and', 'other'), ('other', 'activities.')]"
   ]
  },
  {
   "cell_type": "code",
   "execution_count": 73,
   "id": "7c0eac4c",
   "metadata": {},
   "outputs": [],
   "source": [
    "def bigram_extract(inp_str):\n",
    "    parsed_inp = str_inp.lower().split(' ')\n",
    "    result = []\n",
    "    for ix, _ in enumerate(parsed_inp):\n",
    "        if ix < len(parsed_inp) - 1:\n",
    "            cell = [parsed_inp[ix], parsed_inp[ix+1]]\n",
    "            result.append(cell)\n",
    "    return result\n",
    "        \n",
    "        "
   ]
  },
  {
   "cell_type": "code",
   "execution_count": 74,
   "id": "3aaae0cc",
   "metadata": {},
   "outputs": [],
   "source": [
    "str_inp = 'Have free hours and love children? Drive kids to school, soccer practice and other activities.'"
   ]
  },
  {
   "cell_type": "code",
   "execution_count": 75,
   "id": "ec272698",
   "metadata": {},
   "outputs": [
    {
     "data": {
      "text/plain": [
       "[['have', 'free'],\n",
       " ['free', 'hours'],\n",
       " ['hours', 'and'],\n",
       " ['and', 'love'],\n",
       " ['love', 'children?'],\n",
       " ['children?', 'drive'],\n",
       " ['drive', 'kids'],\n",
       " ['kids', 'to'],\n",
       " ['to', 'school,'],\n",
       " ['school,', 'soccer'],\n",
       " ['soccer', 'practice'],\n",
       " ['practice', 'and'],\n",
       " ['and', 'other'],\n",
       " ['other', 'activities.']]"
      ]
     },
     "execution_count": 75,
     "metadata": {},
     "output_type": "execute_result"
    }
   ],
   "source": [
    "bigram_extract(str_inp)"
   ]
  },
  {
   "cell_type": "code",
   "execution_count": 76,
   "id": "813674c6",
   "metadata": {},
   "outputs": [],
   "source": [
    "# 3. Первый повторяющийся символ\n",
    "# Напишите функцию, которая получает строку и возвращает ее первый повторяющийся символ, или возвращает None, если нет повторяющегося символа.\n",
    "\n",
    "# Пример 1:\n",
    "# Входящее значение:\n",
    "# abcdefghi\n",
    "# Ответ: \n",
    "# None\n",
    "# Пример 2:\n",
    "# Входящее значение:\n",
    "# abcdebfghi\n",
    "# Ответ:\n",
    "# b"
   ]
  },
  {
   "cell_type": "code",
   "execution_count": 85,
   "id": "da6ed90e",
   "metadata": {},
   "outputs": [],
   "source": [
    "def first_dublicate(inp_str):\n",
    "    uniq = set()\n",
    "    dublicate = None\n",
    "    for i in inp_str:\n",
    "        if i in uniq:\n",
    "            dublicate = i\n",
    "            return dublicate\n",
    "        uniq.add(i)\n",
    "    return dublicate"
   ]
  },
  {
   "cell_type": "code",
   "execution_count": 87,
   "id": "01fe3ae1",
   "metadata": {},
   "outputs": [
    {
     "data": {
      "text/plain": [
       "'b'"
      ]
     },
     "execution_count": 87,
     "metadata": {},
     "output_type": "execute_result"
    }
   ],
   "source": [
    "first_dublicate('abcdebfghi')"
   ]
  },
  {
   "cell_type": "code",
   "execution_count": 88,
   "id": "50656de1",
   "metadata": {},
   "outputs": [],
   "source": [
    "# 4. Комбинация сумм\n",
    "# Напишите функцию, которая получает целое число target и список целых чисел integers и возвращает список всех комбинаций чисел из integers, дающих в сумме число target.\n",
    "# Пример 1:\n",
    "# Входящее значение:\n",
    "# target = 8\n",
    "# integers = [2, 3, 5]\n",
    "# Ответ: \n",
    "# [[2, 2, 2, 2], [2, 3, 3], [3, 5]]"
   ]
  },
  {
   "cell_type": "code",
   "execution_count": 100,
   "id": "d5be5e1a",
   "metadata": {},
   "outputs": [],
   "source": [
    "def combinations(target, integers):\n",
    "    res = []\n",
    "    for i in integers:\n",
    "        if target % i == 0:\n",
    "            res.append([i]*int(target/i))\n",
    "        else:\n",
    "            left = target % i\n",
    "            if left in integers:\n",
    "                cell = [left, i]\n",
    "                while sum(cell) != target:\n",
    "                    cell.append(i)\n",
    "                res.append(cell)\n",
    "    return res"
   ]
  },
  {
   "cell_type": "code",
   "execution_count": 101,
   "id": "dcfe8086",
   "metadata": {},
   "outputs": [
    {
     "data": {
      "text/plain": [
       "[[2, 2, 2, 2], [2, 3, 3], [3, 5]]"
      ]
     },
     "execution_count": 101,
     "metadata": {},
     "output_type": "execute_result"
    }
   ],
   "source": [
    "combinations(8, [2, 3, 5])"
   ]
  },
  {
   "cell_type": "code",
   "execution_count": 102,
   "id": "74beb39f",
   "metadata": {},
   "outputs": [],
   "source": [
    "# 5 Среднеквадратичная ошибка\n",
    "# Напишите класс, реализующий вычисление среднеквадратической ошибки (MSE).\n",
    "# Среднеквадратичная ошибка (Mean Squared Error) – Среднее арифметическое (Mean) квадратов разностей между предсказанными и реальными значениями Модели (Model) Машинного обучения (ML).\n",
    "# Рассчитывается с помощью формулы, которая будет пояснена в примере ниже:\n",
    "#  – Среднеквадратическая ошибка\n",
    "#  – количество наблюдений  ",
    " – фактическое значение наблюдения, ",
    "– предсказанное значение наблюдения,\n",
    "\n",
    "# Пример 1:\n",
    "# Входящее значение:\n",
    "# y_true = [5, 41, 70, 77, 134, 68, 138, 101, 131]\n",
    "# y_pred = [23, 35, 55, 90, 93, 103, 118, 121, 129]\n",
    "# Ответ: \n",
    "# 496.0\n"
   ]
  },
  {
   "cell_type": "code",
   "execution_count": 120,
   "id": "5c6836f3",
   "metadata": {},
   "outputs": [],
   "source": [
    "def square_mean(y_true, y_pred):\n",
    "    n_len = len(y_true)\n",
    "    _sum = 0\n",
    "    for i in range(n_len):\n",
    "      _diff = y_true[i] - y_pred[i]\n",
    "      sq_diff = _diff**2\n",
    "      _sum = _sum + sq_diff\n",
    "    return _sum/n_len"
   ]
  },
  {
   "cell_type": "code",
   "execution_count": 118,
   "id": "7bd3c5c1",
   "metadata": {},
   "outputs": [
    {
     "data": {
      "text/plain": [
       "496.0"
      ]
     },
     "execution_count": 118,
     "metadata": {},
     "output_type": "execute_result"
    }
   ],
   "source": [
    "y_true = [5, 41, 70, 77, 134, 68, 138, 101, 131]\n",
    "y_pred = [23, 35, 55, 90, 93, 103, 118, 121, 129]\n",
    "square_mean(y_true, y_pred)"
   ]
  },
  {
   "cell_type": "code",
   "execution_count": null,
   "id": "1b13bcd8",
   "metadata": {},
   "outputs": [],
   "source": []
  }
 ],
 "metadata": {
  "kernelspec": {
   "display_name": "Python 3 (ipykernel)",
   "language": "python",
   "name": "python3"
  },
  "language_info": {
   "codemirror_mode": {
    "name": "ipython",
    "version": 3
   },
   "file_extension": ".py",
   "mimetype": "text/x-python",
   "name": "python",
   "nbconvert_exporter": "python",
   "pygments_lexer": "ipython3",
   "version": "3.9.10"
  }
 },
 "nbformat": 4,
 "nbformat_minor": 5
}
