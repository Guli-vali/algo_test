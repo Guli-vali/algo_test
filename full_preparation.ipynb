{
 "cells": [
  {
   "attachments": {},
   "cell_type": "markdown",
   "id": "b0be89b5-6d4a-47a3-9465-7f882006cd72",
   "metadata": {},
   "source": [
    "# 1. Массивы и строки"
   ]
  },
  {
   "attachments": {},
   "cell_type": "markdown",
   "id": "db2c9dfe-808f-4e2a-ba0d-4c9b5f737392",
   "metadata": {},
   "source": [
    "## Определения:\n",
    "\n",
    "**Хеш-табли́ца** — это структура данных, реализующая интерфейс ассоциативного массива, а именно, она позволяет хранить пары (ключ, значение) и выполнять три операции: операцию добавления новой пары, операцию удаления и операцию поиска пары по ключу.\n",
    "\n",
    "**Массив** — структура данных, хранящая набор значений (элементов массива), идентифицируемых по индексу или набору индексов, принимающих целые (или приводимые к целым) значения из некоторого заданного непрерывного диапазона. \n"
   ]
  },
  {
   "attachments": {},
   "cell_type": "markdown",
   "id": "02ad6b6e-2f34-4e39-bbc1-260715413e3d",
   "metadata": {},
   "source": [
    "## Задания:"
   ]
  },
  {
   "attachments": {},
   "cell_type": "markdown",
   "id": "d346abd8-9be3-43f6-b5a7-e64cb04a4111",
   "metadata": {},
   "source": [
    "**1.1. Реализуйте алгоритм, определяющий, все ли символы в строке встречаются один раз. При выполнении этого задания нельзя использовать дополнительные структуры данных.**"
   ]
  },
  {
   "cell_type": "code",
   "execution_count": 7,
   "id": "ae62ab9f-7c7d-4b63-a4ee-d3a712db8242",
   "metadata": {},
   "outputs": [
    {
     "name": "stdout",
     "output_type": "stream",
     "text": [
      "True\n",
      "------------------\n",
      "False\n"
     ]
    }
   ],
   "source": [
    "_input1 = \"abcd\"\n",
    "_input2 = \"abbcdd\"\n",
    "\n",
    "def string_checker(input_str):\n",
    "    for ch in input_str:\n",
    "        hit = 0\n",
    "        for sec_ch in input_str:\n",
    "            if ch == sec_ch:\n",
    "                hit += 1\n",
    "                if hit > 1:\n",
    "                    return False\n",
    "    return True\n",
    "\n",
    "print(string_checker(_input1))\n",
    "print('------------------')\n",
    "print(string_checker(_input2))\n",
    "\n",
    "    "
   ]
  },
  {
   "attachments": {},
   "cell_type": "markdown",
   "id": "bddb2446-fc16-47a9-a441-69dbaf90aab8",
   "metadata": {},
   "source": [
    "**1.3. Для двух строк напишите метод, определяющий, является ли одна строка перестановкой другой.**"
   ]
  },
  {
   "cell_type": "code",
   "execution_count": 21,
   "id": "8c789511-cece-47fb-a12b-99fb3f34238d",
   "metadata": {},
   "outputs": [
    {
     "name": "stdout",
     "output_type": "stream",
     "text": [
      "True\n",
      "--------------------------\n",
      "False\n"
     ]
    }
   ],
   "source": [
    "_input1_f = \"abcd\"\n",
    "_input1_s = \"cabd\"\n",
    "_input_th = \"aaaa\"\n",
    "\n",
    "def check_str(_str1, _str2):\n",
    "    return sorted(_str1) == sorted(_str2)\n",
    "\n",
    "\n",
    "print(check_str(_input1_f, _input1_s))\n",
    "print('--------------------------')\n",
    "print(check_str(_input1_f, _input_th))"
   ]
  },
  {
   "cell_type": "code",
   "execution_count": 22,
   "id": "3bfacd51-9ac7-487d-94dd-eba7b2107121",
   "metadata": {},
   "outputs": [
    {
     "name": "stdout",
     "output_type": "stream",
     "text": [
      "True\n",
      "--------------------------\n",
      "False\n"
     ]
    }
   ],
   "source": [
    "def check_str_alt(_str1, _str2):\n",
    "    arr1 = list(_str1)\n",
    "    arr2 = []\n",
    "    for el in _str1:\n",
    "        for _el in _str2:\n",
    "            if el == _el:\n",
    "                arr2.append(_el)\n",
    "\n",
    "    return arr1 == arr2\n",
    "\n",
    "print(check_str_alt(_input1_f, _input1_s))\n",
    "print('--------------------------')\n",
    "print(check_str_alt(_input1_f, _input_th))"
   ]
  },
  {
   "attachments": {},
   "cell_type": "markdown",
   "id": "8039a301-4f57-4a66-85bc-2e66b0e6897d",
   "metadata": {},
   "source": [
    "**1.5. Реализуйте метод, осуществляющий сжатие строки, на основе счетчика повторяющихся символов.**"
   ]
  },
  {
   "cell_type": "code",
   "execution_count": 39,
   "id": "de7c86f2-984c-4322-97b6-2f6c4842355d",
   "metadata": {},
   "outputs": [
    {
     "name": "stdout",
     "output_type": "stream",
     "text": [
      "A4B3C2X1Y1Z1D4E3F3A6B28\n"
     ]
    }
   ],
   "source": [
    "_input1 = 'AAAABBBCCXYZDDDDEEEFFFAAAAAABBBBBBBBBBBBBBBBBBBBBBBBBBBB'\n",
    "_output1 = 'A4B3C2XYZD4E3F3A6B28'\n",
    "\n",
    "def transform_str(_input_str):\n",
    "    res = []\n",
    "    count = 0\n",
    "    prev = _input_str[0]\n",
    "\n",
    "    for ch in (list(_input_str) + [None]):\n",
    "        if prev != ch:\n",
    "            prep_str = f'{prev}{count}'\n",
    "            res.append(prep_str)\n",
    "            prev = ch\n",
    "            count = 1\n",
    "        else:\n",
    "            count += 1\n",
    "    return ''.join(res)\n",
    "            \n",
    "\n",
    "print(transform_str(_input1))\n",
    "            \n",
    "            "
   ]
  },
  {
   "attachments": {},
   "cell_type": "markdown",
   "id": "28258616-35cd-4faa-9c19-a04ea8bfd102",
   "metadata": {},
   "source": [
    "# 2. Связные списки"
   ]
  },
  {
   "attachments": {},
   "cell_type": "markdown",
   "id": "7b32e7f8",
   "metadata": {},
   "source": [
    "### Создание связного списка"
   ]
  },
  {
   "cell_type": "code",
   "execution_count": 7,
   "id": "a567eca7",
   "metadata": {},
   "outputs": [
    {
     "name": "stdout",
     "output_type": "stream",
     "text": [
      "third node\n"
     ]
    },
    {
     "data": {
      "text/plain": [
       "'first node -> second node -> third node'"
      ]
     },
     "execution_count": 7,
     "metadata": {},
     "output_type": "execute_result"
    }
   ],
   "source": [
    "class Node:\n",
    "    def __init__(self, data, _next=None):\n",
    "        self.next = _next\n",
    "        self.data = data\n",
    "\n",
    "    def append_to_tail(self, node):\n",
    "        while self.next:\n",
    "            self = self.next\n",
    "        self.next = node\n",
    "\n",
    "    def print_ll(self):\n",
    "        elements = []\n",
    "        current_el = self\n",
    "\n",
    "        while current_el:\n",
    "            elements.append(current_el.data)\n",
    "            current_el = current_el.next\n",
    "        return ' -> '.join(elements)\n",
    "            \n",
    "\n",
    "\n",
    "\n",
    "\n",
    "n1 = Node('first node')\n",
    "n2 = Node('second node')\n",
    "n3 = Node('third node')\n",
    "\n",
    "n1.append_to_tail(n2)\n",
    "n1.append_to_tail(n3)\n",
    "\n",
    "print(n1.next.next.data)\n",
    "\n",
    "\n",
    "n1.print_ll()\n",
    "        "
   ]
  },
  {
   "attachments": {},
   "cell_type": "markdown",
   "id": "5b249055",
   "metadata": {},
   "source": [
    "## Задания:"
   ]
  },
  {
   "attachments": {},
   "cell_type": "markdown",
   "id": "98dc945a",
   "metadata": {},
   "source": [
    "**1.1. Напишите код, удаляющий дубликаты из несортированного связного списка.**"
   ]
  },
  {
   "cell_type": "code",
   "execution_count": 3,
   "id": "b4c374b2",
   "metadata": {},
   "outputs": [
    {
     "name": "stdout",
     "output_type": "stream",
     "text": [
      "a\n",
      "b\n",
      "c\n"
     ]
    }
   ],
   "source": [
    "\n",
    "# 'a' -> 'a' -> 'b'\n",
    "\n",
    "# 'a' -> 'b'\n",
    "\n",
    "def remove_dub(linked_l):\n",
    "    uniq_vals = set()\n",
    "    \n",
    "    prev = None\n",
    "    current_el = linked_l\n",
    "\n",
    "    while current_el:\n",
    "        if current_el.data in uniq_vals:\n",
    "            prev.next = current_el.next\n",
    "        else:\n",
    "            uniq_vals.add(current_el.data)\n",
    "            prev = current_el\n",
    "        current_el = current_el.next\n",
    "\n",
    "    return linked_l\n",
    "\n",
    "n1 = Node('a')\n",
    "n2 = Node('a')\n",
    "n3 = Node('b')\n",
    "n4 = Node('c')\n",
    "n5 = Node('c')\n",
    "n6 = Node('a')\n",
    "\n",
    "n1.append_to_tail(n2)\n",
    "n1.append_to_tail(n3)\n",
    "n1.append_to_tail(n4)\n",
    "n1.append_to_tail(n5)\n",
    "n1.append_to_tail(n6)\n",
    "\n",
    "remove_dub(n1)\n",
    "\n",
    "print(n1.data)\n",
    "print(n1.next.data)\n",
    "print(n1.next.next.data)\n"
   ]
  },
  {
   "attachments": {},
   "cell_type": "markdown",
   "id": "74a3eb7d",
   "metadata": {},
   "source": [
    "**2.2.Реализуйте алгоритм для поиска в односвязном списке к-го элемента с конца.**"
   ]
  },
  {
   "cell_type": "code",
   "execution_count": 3,
   "id": "a512b6dd",
   "metadata": {},
   "outputs": [
    {
     "name": "stdout",
     "output_type": "stream",
     "text": [
      "e\n"
     ]
    }
   ],
   "source": [
    "# a -> b -> c -> d\n",
    "\n",
    "# нода связного списка: node(a...d) /  номер: 3\n",
    "\n",
    "\n",
    "n1 = Node('a')\n",
    "n2 = Node('b')\n",
    "n3 = Node('c')\n",
    "n4 = Node('d')\n",
    "n5 = Node('e')\n",
    "n6 = Node('f')\n",
    "n7 = Node('g')\n",
    "\n",
    "n1.append_to_tail(n2)\n",
    "n1.append_to_tail(n3)\n",
    "n1.append_to_tail(n4)\n",
    "n1.append_to_tail(n5)\n",
    "n1.append_to_tail(n6)\n",
    "n1.append_to_tail(n7)\n",
    "\n",
    "\n",
    "def delete_from_tail(linked_node, tail_position):\n",
    "    total_elements = 0\n",
    "\n",
    "    current_node = linked_node\n",
    "    while current_node:\n",
    "        total_elements += 1\n",
    "        current_node = current_node.next\n",
    "\n",
    "    steps_from_start = total_elements - tail_position\n",
    "    res = linked_node\n",
    "    for _ in range(steps_from_start):\n",
    "        res = res.next\n",
    "\n",
    "    return res.data\n",
    "\n",
    "print(delete_from_tail(n1, 3))"
   ]
  },
  {
   "attachments": {},
   "cell_type": "markdown",
   "id": "c966a9f7",
   "metadata": {},
   "source": [
    "**2.X.X. SBERDEVICES перевернуть связный список**\n",
    "\n",
    "**input:  a -> b -> c -> d**\n",
    "**output: d -> c -> b -> a**\n"
   ]
  },
  {
   "cell_type": "code",
   "execution_count": 9,
   "id": "ed067201",
   "metadata": {},
   "outputs": [
    {
     "data": {
      "text/plain": [
       "'g -> f -> e -> d -> c -> b -> a'"
      ]
     },
     "execution_count": 9,
     "metadata": {},
     "output_type": "execute_result"
    }
   ],
   "source": [
    "\n",
    "\n",
    "# input: a -> b -> c -> d -> e -> f\n",
    "# output: f-> e -> d -> c -> b -> a\n",
    "\n",
    "# 1:   None <- a  b -> c -> d -> e -> f\n",
    "\n",
    "\n",
    "n1 = Node('a')\n",
    "n2 = Node('b')\n",
    "n3 = Node('c')\n",
    "n4 = Node('d')\n",
    "n5 = Node('e')\n",
    "n6 = Node('f')\n",
    "n7 = Node('g')\n",
    "\n",
    "n1.append_to_tail(n2)\n",
    "n1.append_to_tail(n3)\n",
    "n1.append_to_tail(n4)\n",
    "n1.append_to_tail(n5)\n",
    "n1.append_to_tail(n6)\n",
    "n1.append_to_tail(n7)\n",
    "\n",
    "\n",
    "def revert_linked_list(linked_node):\n",
    "    _prev = None\n",
    "    current_node = linked_node\n",
    "    _next = linked_node.next\n",
    "\n",
    "    while current_node.next:\n",
    "        current_node.next = _prev\n",
    "        _prev = current_node\n",
    "        current_node = _next\n",
    "        _next = current_node.next\n",
    "    \n",
    "    current_node.next = _prev\n",
    "    return current_node\n",
    "\n",
    "re_node = revert_linked_list(n1)\n",
    "re_node.print_ll()\n",
    "\n"
   ]
  },
  {
   "attachments": {},
   "cell_type": "markdown",
   "id": "afd6d7b4",
   "metadata": {},
   "source": [
    "# 3. Стрек и очередь"
   ]
  },
  {
   "attachments": {},
   "cell_type": "markdown",
   "id": "b97d50eb",
   "metadata": {},
   "source": [
    "## Реализация стека\n",
    "\n",
    "Стек использует порядок LIFO (последним вошел, первым вышел). Стек подобен стопке тарелок - последнюю добавленную в стопку тарелку возьмут первой."
   ]
  },
  {
   "cell_type": "code",
   "execution_count": 13,
   "id": "cd05b6c8",
   "metadata": {},
   "outputs": [
    {
     "data": {
      "text/plain": [
       "'b'"
      ]
     },
     "execution_count": 13,
     "metadata": {},
     "output_type": "execute_result"
    }
   ],
   "source": [
    "class Stack:\n",
    "\n",
    "    def __init__(self):\n",
    "        self.stack = []\n",
    "\n",
    "    def _pop(self):\n",
    "        return self.stack.pop()\n",
    "\n",
    "    def _push(self, el_to_push):\n",
    "        self.stack.append(el_to_push)\n",
    "    \n",
    "    def _peak(self):\n",
    "        if len(self.stack) > 0:\n",
    "            return self.stack[-1]\n",
    "        else:\n",
    "            return Exception('No elemtns found')\n",
    "    \n",
    "\n",
    "s = Stack()\n",
    "\n",
    "s._peak()\n",
    "s._push('a')\n",
    "s._push('b')\n",
    "s._push('c')\n",
    "s._pop()\n",
    "s._peak()\n"
   ]
  }
 ],
 "metadata": {
  "kernelspec": {
   "display_name": "Python 3 (ipykernel)",
   "language": "python",
   "name": "python3"
  },
  "language_info": {
   "codemirror_mode": {
    "name": "ipython",
    "version": 3
   },
   "file_extension": ".py",
   "mimetype": "text/x-python",
   "name": "python",
   "nbconvert_exporter": "python",
   "pygments_lexer": "ipython3",
   "version": "3.9.6"
  }
 },
 "nbformat": 4,
 "nbformat_minor": 5
}
