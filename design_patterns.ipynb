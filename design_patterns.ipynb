{
 "cells": [
  {
   "cell_type": "markdown",
   "id": "9088ba98-954a-4498-b29e-f6e51bc466ad",
   "metadata": {},
   "source": [
    "# Паттерны проектирования"
   ]
  },
  {
   "cell_type": "markdown",
   "id": "650cf7e0-6856-4146-9ad7-7cfc0b10dddd",
   "metadata": {},
   "source": [
    "### Классификация паттернов проектирования\r\n",
    "\r\n",
    "Изначально существовало две основные классификации паттернов проектирования:\r\n",
    "\r\n",
    "1. Какую проблему решает паттерн.\r\n",
    "2. Как относится паттерн к классам или объектам.там."
   ]
  },
  {
   "cell_type": "markdown",
   "id": "39260c60-4f8f-462b-8233-967b1fce0972",
   "metadata": {},
   "source": [
    "Принимая во внимание первую классификацию, паттерны можно разделить на три группы:\n",
    "\n",
    "* Порождающие – предоставляют возможность создания контролируемым образом, инициализации и конфигурации объектов, классов и типов данных на основе требуемых критериев.\n",
    "* Структурные – помогают организовать структуры связанных объектов и классов, предоставляя новые функциональные возможности.\n",
    "* Поведенческие – направлены на выявление общих моделей взаимодействия между объектами."
   ]
  },
  {
   "cell_type": "markdown",
   "id": "fec52fdb-f5bc-4e69-a827-c3e749cfc57d",
   "metadata": {},
   "source": [
    "## Паттерн 1: Синглтон - Creational Patterns"
   ]
  },
  {
   "cell_type": "code",
   "execution_count": 4,
   "id": "09eceb38-7846-4d86-8f9d-d780cf7ca6a1",
   "metadata": {},
   "outputs": [],
   "source": [
    "# НАИВНЫЙ ПОДХОД С НАРУШЕНИЕМ ПРИНЦИПА ЕДИННОЙ ОТВЕТСТВЕННОСТИ\n",
    "# class Logger:\n",
    "#     @staticmethod\n",
    "#     def get_instance():\n",
    "#         if '_instance' not in Logger.__dict__:\n",
    "#             Logger._instance = Logger()\n",
    "\n",
    "#         return Logger._instance\n",
    "\n",
    "#     def write_log(self, path):\n",
    "#         pass\n",
    "\n",
    "# s1 = Logger.get_instance()\n",
    "# s2 = Logger.get_instance()\n",
    "\n",
    "# assert s1 is s2"
   ]
  },
  {
   "cell_type": "code",
   "execution_count": 24,
   "id": "1fe7c687-fab4-4054-ac89-c6b47d89de99",
   "metadata": {},
   "outputs": [
    {
     "name": "stdout",
     "output_type": "stream",
     "text": [
      "True\n",
      "True\n"
     ]
    }
   ],
   "source": [
    "# ПРАВИЛЬНЫЙ ПОДХОД\n",
    "\n",
    "# Наследование\n",
    "\n",
    "class Singleton1:\n",
    "    _instances = {}\n",
    "\n",
    "    def __new__(cls, *args, **kwargs):\n",
    "        if cls not in cls._instances:\n",
    "            instance = super().__new__(cls)\n",
    "            cls._instances[cls] = instance\n",
    "        return cls._instances[cls]\n",
    "\n",
    "class Logger1(Singleton1):\n",
    "  def __init__(self, name):\n",
    "      self.name = name\n",
    "  def write_log(self, path):\n",
    "      pass\n",
    "\n",
    "\n",
    "s11 = Logger1(name='main')\n",
    "s22 = Logger1(name='routers')\n",
    "print(s11 is s22)\n",
    "assert s11 is s22\n",
    "\n",
    "\n",
    "# Метаклассы\n",
    "class Singleton(type):\n",
    "    _instances = {}\n",
    "\n",
    "    def __call__(cls, *args, **kwargs):\n",
    "        if cls not in cls._instances:\n",
    "            instance = super().__call__(*args, **kwargs)\n",
    "            cls._instances[cls] = instance\n",
    "        return cls._instances[cls]\n",
    "\n",
    "class Logger(metaclass=Singleton):\n",
    "  def __init__(self, name):\n",
    "      self.name = name\n",
    "  def write_log(self, path):\n",
    "      pass\n",
    "\n",
    "s1 = Logger(name='main')\n",
    "s2 = Logger(name='routers')\n",
    "\n",
    "print(s1 is s2)\n",
    "assert s1 is s2"
   ]
  },
  {
   "cell_type": "markdown",
   "id": "c931ce07-b28a-4cc3-989d-8d4019b87193",
   "metadata": {},
   "source": [
    "# Разновидность синглтона с разделяемым(shared) состоянием"
   ]
  },
  {
   "cell_type": "code",
   "execution_count": 54,
   "id": "bee17c17-b24c-42ac-9c1b-e4c09737491f",
   "metadata": {},
   "outputs": [],
   "source": [
    "class Borg:\n",
    "    shared_state: dict[str, str] = {}\n",
    "\n",
    "    def __init__(self):\n",
    "        self.__dict__ = self.shared_state\n",
    "\n",
    "\n",
    "\n",
    "class YourBorg(Borg):\n",
    "    def __init__(self, state: str = None) -> None:\n",
    "        super().__init__()\n",
    "        if state:\n",
    "            self.state = state\n",
    "        else:\n",
    "            # initiate the first instance with default state\n",
    "            if not hasattr(self, \"state\"):\n",
    "                self.state = \"Init\"\n",
    "\n",
    "    def __str__(self) -> str:\n",
    "        return self.state\n",
    "\n",
    "        "
   ]
  },
  {
   "cell_type": "code",
   "execution_count": 55,
   "id": "46d03ec9-b453-4577-9f22-4a961fc42287",
   "metadata": {},
   "outputs": [
    {
     "data": {
      "text/plain": [
       "TestResults(failed=0, attempted=17)"
      ]
     },
     "execution_count": 55,
     "metadata": {},
     "output_type": "execute_result"
    }
   ],
   "source": [
    "def main():\n",
    "    \"\"\"\n",
    "    >>> rm1 = YourBorg()\n",
    "    >>> rm2 = YourBorg()\n",
    "\n",
    "    >>> rm1.state = 'Idle'\n",
    "    >>> rm2.state = 'Running'\n",
    "\n",
    "    >>> print('rm1: {0}'.format(rm1))\n",
    "    rm1: Running\n",
    "    >>> print('rm2: {0}'.format(rm2))\n",
    "    rm2: Running\n",
    "\n",
    "    # When the `state` attribute is modified from instance `rm2`,\n",
    "    # the value of `state` in instance `rm1` also changes\n",
    "    >>> rm2.state = 'Zombie'\n",
    "\n",
    "    >>> print('rm1: {0}'.format(rm1))\n",
    "    rm1: Zombie\n",
    "    >>> print('rm2: {0}'.format(rm2))\n",
    "    rm2: Zombie\n",
    "\n",
    "    # Even though `rm1` and `rm2` share attributes, the instances are not the same\n",
    "    >>> rm1 is rm2\n",
    "    False\n",
    "\n",
    "    # New instances also get the same shared state\n",
    "    >>> rm3 = YourBorg()\n",
    "\n",
    "    >>> print('rm1: {0}'.format(rm1))\n",
    "    rm1: Zombie\n",
    "    >>> print('rm2: {0}'.format(rm2))\n",
    "    rm2: Zombie\n",
    "    >>> print('rm3: {0}'.format(rm3))\n",
    "    rm3: Zombie\n",
    "\n",
    "    # A new instance can explicitly change the state during creation\n",
    "    >>> rm4 = YourBorg('Running')\n",
    "\n",
    "    >>> print('rm4: {0}'.format(rm4))\n",
    "    rm4: Running\n",
    "\n",
    "    # Existing instances reflect that change as well\n",
    "    >>> print('rm3: {0}'.format(rm3))\n",
    "    rm3: Running\n",
    "    \"\"\"\n",
    "\n",
    "import doctest\n",
    "doctest.testmod()"
   ]
  },
  {
   "cell_type": "markdown",
   "id": "b3ca25f0-63fd-4626-bde7-d6c45e52a074",
   "metadata": {},
   "source": [
    "# Паттерн 2 - Абстрактная фабрика  - Creational patterns\n",
    "\n",
    "### TL;DR\n",
    "Provides a way to encapsulate a group of individual factories."
   ]
  },
  {
   "cell_type": "code",
   "execution_count": 62,
   "id": "03f7ff7c-26e9-42b1-911c-252fd2c2ba28",
   "metadata": {},
   "outputs": [],
   "source": [
    "class Pet:\n",
    "    def __init__(self, name: str) -> None:\n",
    "        self.name = name\n",
    "\n",
    "    def speak(self) -> None:\n",
    "        raise NotImplementedError\n",
    "\n",
    "    def __str__(self) -> str:\n",
    "        raise NotImplementedError\n",
    "\n",
    "\n",
    "class Dog(Pet):\n",
    "    def speak(self) -> None:\n",
    "        print(\"woof\")\n",
    "\n",
    "    def __str__(self) -> str:\n",
    "        return f\"Dog <{self.name}>\"\n",
    "\n",
    "\n",
    "class Cat(Pet):\n",
    "    def speak(self) -> None:\n",
    "        print(\"meow\")\n",
    "\n",
    "    def __str__(self) -> str:\n",
    "        return f\"Cat <{self.name}>\"\n",
    "        "
   ]
  },
  {
   "cell_type": "code",
   "execution_count": 63,
   "id": "3835a8da-0a1d-4243-b815-4a593faf7830",
   "metadata": {},
   "outputs": [],
   "source": [
    "from typing import Type\n",
    "\n",
    "class PetShop:\n",
    "    \"\"\"A pet shop\"\"\"\n",
    "\n",
    "    def __init__(self, animal_factory: Type[Pet]) -> None:\n",
    "        \"\"\"pet_factory is our abstract factory.  We can set it at will.\"\"\"\n",
    "        self.pet_factory = animal_factory\n",
    "\n",
    "    def buy_pet(self, name: str) -> Pet:\n",
    "        \"\"\"Creates and shows a pet using the abstract factory\"\"\"\n",
    "        pet = self.pet_factory(name)\n",
    "        print(f\"Here is your lovely {pet}\")\n",
    "        return pet\n"
   ]
  },
  {
   "cell_type": "code",
   "execution_count": 65,
   "id": "488cabbe-720a-4b68-a939-5dc7afb2cc3b",
   "metadata": {},
   "outputs": [
    {
     "name": "stdout",
     "output_type": "stream",
     "text": [
      "Here is your lovely Dog <woofie^_^>\n",
      "woof\n",
      "Dog <woofie^_^>\n"
     ]
    }
   ],
   "source": [
    "pet_factory = PetShop(Dog)\n",
    "awesome_boy = pet_factory.buy_pet('woofie^_^')\n",
    "awesome_boy.speak()\n",
    "print(awesome_boy)"
   ]
  },
  {
   "cell_type": "markdown",
   "id": "d91f7918-4a92-4a78-91f1-1a884e7a2eb5",
   "metadata": {},
   "source": [
    "# Паттерн 3 - ФАБРИКА/Фабричный метод - Creational patterns\n",
    "\n",
    "#### *TL;DR\n",
    "Creates objects without having to specify the exact class."
   ]
  },
  {
   "cell_type": "markdown",
   "id": "98f7b0bf-fc4a-4a1e-be0b-c28048129b98",
   "metadata": {},
   "source": [
    "from typing import Protocol\n",
    "\n",
    "\n",
    "class Localizer(Protocol):\n",
    "    def localize(self, msg: str) -> str:\n",
    "        pass\n",
    "\n",
    "\n",
    "class GreekLocalizer:\n",
    "    \"\"\" A simple localizer a la gettext \"\"\"\n",
    "    def __init__(self) -> None:\n",
    "        self.translations = {\"dog\": \"σκύλος\", \"cat\": \"γάτα\"}\n",
    "\n",
    "    def localize(self, msg: str) -> str:\n",
    "        \"\"\"We'll punt if we don't have a translation\"\"\"\n",
    "        return self.translations.get(msg, msg)\n",
    "\n",
    "\n",
    "class EnglishLocalizer:\n",
    "    \"\"\"Simply echoes the message\"\"\"\n",
    "\n",
    "    def localize(self, msg: str) -> str:\n",
    "        return msg\n",
    "\n",
    "\n",
    "def get_localizer(language: str = \"English\") -> Localizer:\n",
    "\n",
    "    \"\"\"Factory\"\"\"\n",
    "    localizers: dict[str, Type[Localizer]] = {\n",
    "        \"English\": EnglishLocalizer,\n",
    "        \"Greek\": GreekLocalizer,\n",
    "    }\n",
    "\n",
    "    return localizers[language]()\n"
   ]
  },
  {
   "cell_type": "code",
   "execution_count": 71,
   "id": "8059e626-28cb-44f0-a767-5f31e9e63c31",
   "metadata": {},
   "outputs": [
    {
     "name": "stdout",
     "output_type": "stream",
     "text": [
      "σκύλος\n",
      "γάτα\n",
      "dog\n",
      "HULIO IGLESIAS\n"
     ]
    }
   ],
   "source": [
    "gr_l = get_localizer('Greek')\n",
    "print(gr_l.localize('dog'))\n",
    "print(gr_l.localize('cat'))\n",
    "\n",
    "\n",
    "en_l = get_localizer('English')\n",
    "print(en_l.localize('dog'))\n",
    "print(en_l.localize('HULIO IGLESIAS'))"
   ]
  },
  {
   "cell_type": "markdown",
   "id": "01459258-89ef-4bc8-b280-d90e535eee20",
   "metadata": {},
   "source": [
    "# Паттерн 4 Стратегия - Behavioral Patterns\n",
    "\n",
    "#### *TL;DR\n",
    "Enables selecting an algorithm at runtime."
   ]
  },
  {
   "cell_type": "code",
   "execution_count": 91,
   "id": "8b9ccfb2-cc95-4467-abf3-26a11756bf61",
   "metadata": {},
   "outputs": [
    {
     "name": "stdout",
     "output_type": "stream",
     "text": [
      "<Order price: 100 with discount strategy: ten_percent_discount>\n",
      "90.0\n",
      "<Order price: 100 with discount strategy: on_sale_discount>\n",
      "55.0\n",
      "Discount cannot be applied due to negative price resulting. on_sale_discount\n",
      "<Order price: 10 with discount strategy: None>\n"
     ]
    }
   ],
   "source": [
    "from __future__ import annotations\n",
    "\n",
    "from typing import Callable\n",
    "\n",
    "\n",
    "class DiscountStrategyValidator:\n",
    "    @staticmethod\n",
    "    def validate(obj: Order, value: Callable) -> bool:\n",
    "        try:\n",
    "            if obj.price - value(obj) < 0:\n",
    "                raise ValueError(\n",
    "                    f\"Discount cannot be applied due to negative price resulting. {value.__name__}\"\n",
    "                )\n",
    "        except ValueError as ex:\n",
    "            print(str(ex))\n",
    "            return False\n",
    "        else:\n",
    "            return True\n",
    "\n",
    "    def __set_name__(self, owner, name: str) -> None:\n",
    "        self.private_name = f\"_{name}\"\n",
    "\n",
    "    def __set__(self, obj: Order, value: Callable = None) -> None:\n",
    "        if value and self.validate(obj, value):\n",
    "            setattr(obj, self.private_name, value)\n",
    "        else:\n",
    "            setattr(obj, self.private_name, None)\n",
    "\n",
    "    def __get__(self, obj: object, objtype: type = None):\n",
    "        return getattr(obj, self.private_name)\n",
    "\n",
    "\n",
    "class Order:\n",
    "    discount_strategy = DiscountStrategyValidator()\n",
    "\n",
    "    def __init__(self, price: float, discount_strategy: Callable = None) -> None:\n",
    "        self.price: float = price\n",
    "        self.discount_strategy = discount_strategy\n",
    "\n",
    "    def apply_discount(self) -> float:\n",
    "        if self.discount_strategy:\n",
    "            discount = self.discount_strategy(self)\n",
    "        else:\n",
    "            discount = 0\n",
    "\n",
    "        return self.price - discount\n",
    "\n",
    "    def __repr__(self) -> str:\n",
    "        return f\"<Order price: {self.price} with discount strategy: {getattr(self.discount_strategy,'__name__',None)}>\"\n",
    "\n",
    "\n",
    "def ten_percent_discount(order: Order) -> float:\n",
    "    return order.price * 0.10\n",
    "\n",
    "\n",
    "def on_sale_discount(order: Order) -> float:\n",
    "    return order.price * 0.25 + 20\n",
    "\n",
    "\n",
    "order = Order(100, discount_strategy=ten_percent_discount)\n",
    "print(order)\n",
    "print(order.apply_discount())\n",
    "\n",
    "\n",
    "order = Order(100, discount_strategy=on_sale_discount)\n",
    "print(order)\n",
    "print(order.apply_discount())\n",
    "\n",
    "\n",
    "order = Order(10, discount_strategy=on_sale_discount)\n",
    "print(order)"
   ]
  },
  {
   "cell_type": "code",
   "execution_count": 93,
   "id": "62f6f1cc-ea3a-4fc6-8f2e-0dcf032b049f",
   "metadata": {},
   "outputs": [
    {
     "name": "stdout",
     "output_type": "stream",
     "text": [
      "Price: 20000, price after discount: 20000\n",
      "Price: 20000, price after discount: 16000.0\n",
      "Price: 20000, price after discount: 14980.0\n"
     ]
    }
   ],
   "source": [
    "# LIGHTWEIGHT SOLUTION \n",
    "\n",
    "class Item:\n",
    " \n",
    "    \"\"\"Constructor function with price and discount\"\"\"\n",
    " \n",
    "    def __init__(self, price, discount_strategy = None):\n",
    "         \n",
    "        \"\"\"take price and discount strategy\"\"\"\n",
    "         \n",
    "        self.price = price\n",
    "        self.discount_strategy = discount_strategy\n",
    "         \n",
    "    \"\"\"A separate function for price after discount\"\"\"\n",
    " \n",
    "    def price_after_discount(self):\n",
    "         \n",
    "        if self.discount_strategy:\n",
    "            discount = self.discount_strategy(self)\n",
    "        else:\n",
    "            discount = 0\n",
    "             \n",
    "        return self.price - discount\n",
    " \n",
    "    def __repr__(self):\n",
    "         \n",
    "        statement = \"Price: {}, price after discount: {}\"\n",
    "        return statement.format(self.price, self.price_after_discount())\n",
    " \n",
    "\"\"\"function dedicated to On Sale Discount\"\"\"\n",
    "def on_sale_discount(order):\n",
    "     \n",
    "    return order.price * 0.25 + 20\n",
    " \n",
    "\"\"\"function dedicated to 20 % discount\"\"\"\n",
    "def twenty_percent_discount(order):\n",
    "     \n",
    "    return order.price * 0.20\n",
    " \n",
    " \n",
    "print(Item(20000))\n",
    " \n",
    "\"\"\"with discount strategy as 20 % discount\"\"\"\n",
    "print(Item(20000, discount_strategy = twenty_percent_discount))\n",
    "\n",
    "\"\"\"with discount strategy as On Sale Discount\"\"\"\n",
    "print(Item(20000, discount_strategy = on_sale_discount))"
   ]
  },
  {
   "cell_type": "code",
   "execution_count": 109,
   "id": "b0874304-0b31-46de-945d-5fc9b02dd3ee",
   "metadata": {},
   "outputs": [],
   "source": [
    "from typing import Callable\n",
    "\n",
    "class Order:\n",
    "    def __init__(self, price, discount_strategy: Callable = None):\n",
    "        self.price = price\n",
    "        self.discount_strategy = discount_strategy\n",
    "\n",
    "    def calculate_discount(self):\n",
    "        if self.discount_strategy:\n",
    "            return self.discount_strategy(self)\n",
    "        else:\n",
    "            return self.price\n",
    "\n",
    "    def __str__(self):\n",
    "        return f'Final price with discount is {self.calculate_discount()}'"
   ]
  },
  {
   "cell_type": "markdown",
   "id": "420b3ef2-e777-44bb-9303-71cdfbea9e06",
   "metadata": {},
   "source": [
    "def season_regular_sale(order):\n",
    "    # 25% off\n",
    "    return order.price * 0.75\n",
    "\n",
    "\n",
    "def winter_crazy_sale(order):\n",
    "    # 60% off\n",
    "    return order.price * 0.40\n",
    "\n",
    "season_sale_order = Order(100, season_regular_sale)\n",
    "print(season_sale_order)\n",
    "\n",
    "winter_crazy_sale_order = Order(100, winter_crazy_sale)\n",
    "print(winter_crazy_sale_order)"
   ]
  },
  {
   "cell_type": "markdown",
   "id": "c2017fbe-637b-4c64-b594-1b6f70bec8e6",
   "metadata": {},
   "source": [
    "# Паттерн 5 Цепочка обязанностей - Behavioral Patterns\n",
    "\n",
    "#### *TL;DR\n",
    "The Chain of responsibility is an object oriented version of the\n",
    "`if ... elif ... elif ... else ...` idiom, with the\n",
    "benefit that the condition–action blocks can be dynamically rearranged\n",
    "and reconfigured at runtime.\n",
    "\n",
    "Allow a request to pass down a chain of receivers until it is handled."
   ]
  },
  {
   "cell_type": "code",
   "execution_count": 115,
   "id": "bc82f7c2-7d4b-4da3-b3fb-5626bbca61a0",
   "metadata": {},
   "outputs": [],
   "source": [
    "from abc import ABC, abstractmethod\n",
    "from typing import Optional, Tuple\n",
    "\n",
    "\n",
    "class Handler(ABC):\n",
    "    def __init__(self, successor: Optional[\"Handler\"] = None):\n",
    "        self.successor = successor\n",
    "\n",
    "    def handle(self, request: int) -> None:\n",
    "        \"\"\"\n",
    "        Handle request and stop.\n",
    "        If can't - call next handler in chain.\n",
    "\n",
    "        As an alternative you might even in case of success\n",
    "        call the next handler.\n",
    "        \"\"\"\n",
    "        res = self.check_range(request)\n",
    "        if not res and self.successor:\n",
    "            self.successor.handle(request)\n",
    "\n",
    "    @abstractmethod\n",
    "    def check_range(self, request: int) -> Optional[bool]:\n",
    "        \"\"\"Compare passed value to predefined interval\"\"\"\n",
    "\n",
    "\n",
    "class ConcreteHandler0(Handler):\n",
    "    \"\"\"Each handler can be different.\n",
    "    Be simple and static...\n",
    "    \"\"\"\n",
    "\n",
    "    @staticmethod\n",
    "    def check_range(request: int) -> Optional[bool]:\n",
    "        if 0 <= request < 10:\n",
    "            print(f\"request {request} handled in handler 0\")\n",
    "            return True\n",
    "        return None\n",
    "\n",
    "\n",
    "class ConcreteHandler1(Handler):\n",
    "    \"\"\"... With it's own internal state\"\"\"\n",
    "\n",
    "    start, end = 10, 20\n",
    "\n",
    "    def check_range(self, request: int) -> Optional[bool]:\n",
    "        if self.start <= request < self.end:\n",
    "            print(f\"request {request} handled in handler 1\")\n",
    "            return True\n",
    "        return None\n",
    "\n",
    "\n",
    "class ConcreteHandler2(Handler):\n",
    "    \"\"\"... With helper methods.\"\"\"\n",
    "\n",
    "    def check_range(self, request: int) -> Optional[bool]:\n",
    "        start, end = self.get_interval_from_db()\n",
    "        if start <= request < end:\n",
    "            print(f\"request {request} handled in handler 2\")\n",
    "            return True\n",
    "        return None\n",
    "\n",
    "    @staticmethod\n",
    "    def get_interval_from_db() -> Tuple[int, int]:\n",
    "        return (20, 30)\n",
    "\n",
    "class FallbackHandler(Handler):\n",
    "    @staticmethod\n",
    "    def check_range(request: int) -> Optional[bool]:\n",
    "        print(f\"end of chain, no handler for {request}\")\n",
    "        return False"
   ]
  },
  {
   "cell_type": "code",
   "execution_count": 116,
   "id": "b4cad1da-edc5-4d4f-b277-931399582a57",
   "metadata": {},
   "outputs": [
    {
     "name": "stdout",
     "output_type": "stream",
     "text": [
      "request 2 handled in handler 0\n",
      "request 5 handled in handler 0\n",
      "request 14 handled in handler 1\n",
      "request 22 handled in handler 2\n",
      "request 18 handled in handler 1\n",
      "request 3 handled in handler 0\n",
      "end of chain, no handler for 35\n",
      "request 27 handled in handler 2\n",
      "request 20 handled in handler 2\n"
     ]
    }
   ],
   "source": [
    "h0 = ConcreteHandler0()\n",
    "h1 = ConcreteHandler1()\n",
    "h2 = ConcreteHandler2(FallbackHandler())\n",
    "h0.successor = h1\n",
    "h1.successor = h2\n",
    "\n",
    "requests = [2, 5, 14, 22, 18, 3, 35, 27, 20]\n",
    "for request in requests:\n",
    "    h0.handle(request)"
   ]
  },
  {
   "cell_type": "markdown",
   "id": "f1978fa2-98dd-4990-a38f-8409800b887f",
   "metadata": {},
   "source": [
    "# Паттерн 6 Адаптер - Structural Patterns\n",
    "\n",
    "#### *TL;DR\n",
    "Allows the interface of an existing class to be used as another interface."
   ]
  },
  {
   "cell_type": "code",
   "execution_count": 1,
   "id": "c45d49c9-1f99-49e1-9e48-9e9e2902327c",
   "metadata": {},
   "outputs": [],
   "source": [
    "class Dog:\n",
    "    def __init__(self) -> None:\n",
    "        self.name = \"Dog\"\n",
    "\n",
    "    def bark(self) -> str:\n",
    "        return \"woof!\"\n",
    "\n",
    "\n",
    "class Cat:\n",
    "    def __init__(self) -> None:\n",
    "        self.name = \"Cat\"\n",
    "\n",
    "    def meow(self) -> str:\n",
    "        return \"meow!\"\n",
    "\n",
    "\n",
    "class Human:\n",
    "    def __init__(self) -> None:\n",
    "        self.name = \"Human\"\n",
    "\n",
    "    def speak(self) -> str:\n",
    "        return \"'hello'\"\n",
    "\n",
    "\n",
    "class Car:\n",
    "    def __init__(self) -> None:\n",
    "        self.name = \"Car\"\n",
    "\n",
    "    def make_noise(self, octane_level: int) -> str:\n",
    "        return f\"vroom{'!' * octane_level}\""
   ]
  },
  {
   "cell_type": "code",
   "execution_count": 10,
   "id": "7263127d-3f3a-4fb1-a66f-76e33ea3413e",
   "metadata": {},
   "outputs": [],
   "source": [
    "from typing import Callable, TypeVar\n",
    "\n",
    "\n",
    "T = TypeVar(\"T\")\n",
    "\n",
    "\n",
    "class Adapter:\n",
    "    \"\"\"Adapts an object by replacing methods.\n",
    "\n",
    "    Usage\n",
    "    ------\n",
    "    dog = Dog()\n",
    "    dog = Adapter(dog, make_noise=dog.bark)\n",
    "    \"\"\"\n",
    "\n",
    "    def __init__(self, obj: T, **adapted_methods: Callable):\n",
    "        \"\"\"We set the adapted methods in the object's dict.\"\"\"\n",
    "        self.obj = obj\n",
    "        self.__dict__.update(adapted_methods)\n",
    "\n",
    "    def __getattr__(self, attr):\n",
    "        \"\"\"All non-adapted calls are passed to the object.\"\"\"\n",
    "        return getattr(self.obj, attr)\n",
    "\n",
    "    def original_dict(self):\n",
    "        \"\"\"Print original object dict.\"\"\"\n",
    "        return self.obj.__dict__"
   ]
  },
  {
   "cell_type": "code",
   "execution_count": 14,
   "id": "c7ae435b-ff63-428b-ba06-b9a119748481",
   "metadata": {},
   "outputs": [
    {
     "name": "stdout",
     "output_type": "stream",
     "text": [
      "{'name': 'Dog'}\n"
     ]
    }
   ],
   "source": [
    "objects = []\n",
    "dog = Dog()\n",
    "print(dog.__dict__)"
   ]
  },
  {
   "cell_type": "code",
   "execution_count": 15,
   "id": "56809cda-cd83-4bc4-96f3-a1438f08e2de",
   "metadata": {},
   "outputs": [],
   "source": [
    "objects.append(Adapter(dog, make_noise=dog.bark))"
   ]
  },
  {
   "cell_type": "code",
   "execution_count": 16,
   "id": "c8be1346-05e5-4898-8c31-1fa4eb3175a1",
   "metadata": {},
   "outputs": [],
   "source": [
    "cat = Cat()\n",
    "objects.append(Adapter(cat, make_noise=cat.meow))"
   ]
  },
  {
   "cell_type": "code",
   "execution_count": 17,
   "id": "805af24e-1953-4237-85f5-9029f9482e3f",
   "metadata": {},
   "outputs": [],
   "source": [
    "human = Human()\n",
    "objects.append(Adapter(human, make_noise=human.speak))"
   ]
  },
  {
   "cell_type": "code",
   "execution_count": 18,
   "id": "7ca3411b-6acd-41c2-9c0f-ab36c126c342",
   "metadata": {},
   "outputs": [],
   "source": [
    "car = Car()\n",
    "objects.append(Adapter(car, make_noise=lambda: car.make_noise(3)))"
   ]
  },
  {
   "cell_type": "code",
   "execution_count": 19,
   "id": "2522a021-d9a4-4b71-a349-c72aab316d3a",
   "metadata": {},
   "outputs": [
    {
     "name": "stdout",
     "output_type": "stream",
     "text": [
      "A Dog goes woof!\n",
      "A Cat goes meow!\n",
      "A Human goes 'hello'\n",
      "A Car goes vroom!!!\n"
     ]
    }
   ],
   "source": [
    "for obj in objects:\n",
    "    print(\"A {0} goes {1}\".format(obj.name, obj.make_noise()))"
   ]
  },
  {
   "cell_type": "markdown",
   "id": "267dae1b-87a3-4d37-84ff-0e5cb4655627",
   "metadata": {},
   "source": [
    "# Паттерн 7 Фасад - Structural Patterns\n",
    "\n",
    "#### *TL;DR\n",
    "Provides a simpler unified interface to a complex system."
   ]
  },
  {
   "cell_type": "code",
   "execution_count": 21,
   "id": "6a5463c0-8f9b-4f4f-a59b-06e112dfc501",
   "metadata": {},
   "outputs": [],
   "source": [
    "# Complex computer parts\n",
    "class CPU:\n",
    "    \"\"\"\n",
    "    Simple CPU representation.\n",
    "    \"\"\"\n",
    "\n",
    "    def freeze(self) -> None:\n",
    "        print(\"Freezing processor.\")\n",
    "\n",
    "    def jump(self, position: str) -> None:\n",
    "        print(\"Jumping to:\", position)\n",
    "\n",
    "    def execute(self) -> None:\n",
    "        print(\"Executing.\")\n"
   ]
  },
  {
   "cell_type": "code",
   "execution_count": 22,
   "id": "89ee06bb-3006-469a-869d-7bd53bfc90e3",
   "metadata": {},
   "outputs": [],
   "source": [
    "class Memory:\n",
    "    \"\"\"\n",
    "    Simple memory representation.\n",
    "    \"\"\"\n",
    "\n",
    "    def load(self, position: str, data: str) -> None:\n",
    "        print(f\"Loading from {position} data: '{data}'.\")"
   ]
  },
  {
   "cell_type": "code",
   "execution_count": 23,
   "id": "d3fca27f-625f-4f38-96a4-d0cabba3671f",
   "metadata": {},
   "outputs": [],
   "source": [
    "class SolidStateDrive:\n",
    "    \"\"\"\n",
    "    Simple solid state drive representation.\n",
    "    \"\"\"\n",
    "\n",
    "    def read(self, lba: str, size: str) -> str:\n",
    "        return f\"Some data from sector {lba} with size {size}\""
   ]
  },
  {
   "cell_type": "code",
   "execution_count": 24,
   "id": "6ae56e96-8a26-431d-be77-533aa57738bc",
   "metadata": {},
   "outputs": [],
   "source": [
    "class ComputerFacade:\n",
    "    \"\"\"\n",
    "    Represents a facade for various computer parts.\n",
    "    \"\"\"\n",
    "\n",
    "    def __init__(self):\n",
    "        self.cpu = CPU()\n",
    "        self.memory = Memory()\n",
    "        self.ssd = SolidStateDrive()\n",
    "\n",
    "    def start(self):\n",
    "        self.cpu.freeze()\n",
    "        self.memory.load(\"0x00\", self.ssd.read(\"100\", \"1024\"))\n",
    "        self.cpu.jump(\"0x00\")\n",
    "        self.cpu.execute()"
   ]
  },
  {
   "cell_type": "code",
   "execution_count": 25,
   "id": "3c26bf4f-a438-454e-bfcb-e6c5494e96d0",
   "metadata": {},
   "outputs": [
    {
     "name": "stdout",
     "output_type": "stream",
     "text": [
      "Freezing processor.\n",
      "Loading from 0x00 data: 'Some data from sector 100 with size 1024'.\n",
      "Jumping to: 0x00\n",
      "Executing.\n"
     ]
    }
   ],
   "source": [
    "computer_facade = ComputerFacade()\n",
    "computer_facade.start()"
   ]
  },
  {
   "cell_type": "code",
   "execution_count": null,
   "id": "40a62a63-d99e-4a2a-8a50-43619e1daa08",
   "metadata": {},
   "outputs": [],
   "source": []
  }
 ],
 "metadata": {
  "kernelspec": {
   "display_name": "Python 3 (ipykernel)",
   "language": "python",
   "name": "python3"
  },
  "language_info": {
   "codemirror_mode": {
    "name": "ipython",
    "version": 3
   },
   "file_extension": ".py",
   "mimetype": "text/x-python",
   "name": "python",
   "nbconvert_exporter": "python",
   "pygments_lexer": "ipython3",
   "version": "3.10.6"
  }
 },
 "nbformat": 4,
 "nbformat_minor": 5
}
